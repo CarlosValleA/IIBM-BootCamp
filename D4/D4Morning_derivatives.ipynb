{
 "cells": [
  {
   "cell_type": "markdown",
   "id": "bc89a60d",
   "metadata": {},
   "source": [
    "## IIBM Bootcamp 2022: Day 4 Morning\n",
    "### Instructors Carlos Valle (cgvalle@uc.cl) and Gabriela Vargas (givargas@uc.cl)\n",
    "\n",
    "This jupyter noteboook will cover how to work with derivatives and integrals in Python\n",
    "\n",
    "### Day Agenda:\n",
    "\n",
    "***Morning***\n",
    "\n",
    "10. Calculus:\n",
    "    * Derivatives\n",
    "    * Integrals\n",
    "    * Descrite implementation\n",
    "***Afternoon***\n",
    "\n",
    "11. Group Project\n",
    "    * Understanding derivatives and integrals visually.\n",
    "    \n",
    "\n",
    "**Don't forget to send your work!**\n"
   ]
  },
  {
   "cell_type": "code",
   "execution_count": null,
   "id": "cb045f3a",
   "metadata": {},
   "outputs": [],
   "source": [
    "import numpy as np\n",
    "import matplotlib.pyplot as plt"
   ]
  },
  {
   "cell_type": "markdown",
   "id": "7604c59c",
   "metadata": {},
   "source": [
    "# 10.1 The Derivative\n",
    "The derivative of a function can be geometrically interpreted as the slope of the curve of a function $f(x)$. The slop is the rate of change at a given point. For example, acceleration is the derivative of speed, indicating a rate of change in speed at a given point. \n",
    "\n",
    "It can be defined as\n",
    "\n",
    "$$\n",
    " \\dfrac{df(x)}{dx} = f'(x) = \\lim_{h \\to 0} \\dfrac{f(x + h) - f(x)}{h} \n",
    "$$\n",
    "\n",
    "Where the derivative of a function at a point $c$ is:\n",
    "\n",
    "$$\n",
    " f'(c) = \\lim_{x \\to c} \\dfrac{f(x) - f(c)}{x -c} \n",
    "$$\n",
    "\n",
    "## **What?!**\n",
    "\n",
    "For now, just remember that the derivative is the slope of a function and let's try to look for a simpler example like a linear function:\n",
    "\n",
    "$$\n",
    "f(x) = 2x + 4\n",
    "$$\n",
    "\n",
    "The slop of that linear function is:\n",
    "\n",
    "\n",
    "$$\n",
    "m = \\dfrac{f(x_2) - f(x_1)}{x_2 - x_1}\n",
    "$$\n"
   ]
  },
  {
   "cell_type": "markdown",
   "id": "2b46cfc7",
   "metadata": {},
   "source": [
    "Using python, we can find the slop by applying the previous formula\n"
   ]
  },
  {
   "cell_type": "code",
   "execution_count": null,
   "id": "c4f97f13",
   "metadata": {},
   "outputs": [],
   "source": [
    "# Definition of the function\n",
    "def f(x):\n",
    "    return 2*x + 4\n",
    "\n",
    "# Slope of the f(x)\n",
    "def slope(x1, x2):\n",
    "    return (f(x2) - f(x1))/(x2 - x1)\n",
    "\n",
    "print(\"Slope of f(x) with x1=1, x2=2 is       :\" , slope(1, 2))\n",
    "print(\"Slope of f(x) with x1=4, x2=2 is       :\" , slope(1, 2))\n",
    "print(\"Slope of f(x) with x1=2342, x2=2 is    :\" , slope(2342, 2))\n",
    "print(\"Slope of f(x) with x1=9, x2=2 is       :\" , slope(9, 2))\n",
    "print(\"Slope of f(x) with x1=0, x2=-23 is     :\" , slope(0, -23))"
   ]
  },
  {
   "cell_type": "markdown",
   "id": "cb75920a",
   "metadata": {},
   "source": [
    "It seems that it doesn't matter the value of $x_1$ or $x_2$. The slope is always 2. If we derivate $f(x)$:\n",
    "\n",
    "$$\n",
    "f'(x) = \\dfrac{d(2x + 4)}{dx} = 2\n",
    "$$\n",
    "\n",
    "So the result is correct, but unfortunately, this only works for linear functions since the slope is always the same value, but for a function $f(x) = cos(x/10) + (\\dfrac{x}{50})^3$ will not work since it has a lot of curves.  \n",
    "\n",
    "## but, what if we assume that $x^3$ is a linear function by zooming on it ?\n",
    "\n",
    "Let's start by plotting it"
   ]
  },
  {
   "cell_type": "code",
   "execution_count": null,
   "id": "af71e972",
   "metadata": {},
   "outputs": [],
   "source": [
    "def f_x3(x):\n",
    "    return np.cos(x/10) + (x/50)**3\n",
    "\n",
    "x = np.linspace(start=-100, stop=100, num=1000)"
   ]
  },
  {
   "cell_type": "code",
   "execution_count": null,
   "id": "7ac433b1",
   "metadata": {},
   "outputs": [],
   "source": [
    "# Plotting the full figure\n",
    "fig = plt.figure(figsize=(10, 10))  # Creating figure\n",
    "ax = plt.subplot(1, 1, 1)  # Creating subplot\n",
    "ax.plot(x, f_x3(x) )  # Actually plotting\n",
    "plt.title(\"No zoom\")\n",
    "plt.show()"
   ]
  },
  {
   "cell_type": "code",
   "execution_count": null,
   "id": "d4974616",
   "metadata": {},
   "outputs": [],
   "source": [
    "# Zooming by changing xlim and y lim\n",
    "fig = plt.figure(figsize=(10, 10))  # Creating figure\n",
    "ax = plt.subplot(1, 1, 1)  # Creating subplot\n",
    "ax.plot(x, f_x3(x) )  # Actually plotting\n",
    "ax.set_xlim(-50, 50)\n",
    "ax.set_ylim(-3, 3)\n",
    "plt.title(\"Zoom x2\")\n",
    "plt.show()"
   ]
  },
  {
   "cell_type": "code",
   "execution_count": null,
   "id": "01ce003c",
   "metadata": {},
   "outputs": [],
   "source": [
    "# Zooming by changing xlim and y lim\n",
    "fig = plt.figure(figsize=(10, 10))  # Creating figure\n",
    "ax = plt.subplot(1, 1, 1)  # Creating subplot\n",
    "ax.plot(x, f_x3(x) )  # Actually plotting\n",
    "ax.set_xlim(-10, 0)\n",
    "ax.set_ylim(0, 1)\n",
    "plt.title(\"Zoom x10\")\n",
    "plt.show()"
   ]
  },
  {
   "cell_type": "code",
   "execution_count": null,
   "id": "8bbd3ed1",
   "metadata": {},
   "outputs": [],
   "source": [
    "# Zooming by changing xlim and y lim\n",
    "fig = plt.figure(figsize=(10, 10))  # Creating figure\n",
    "ax = plt.subplot(1, 1, 1)  # Creating subplot\n",
    "ax.plot(x, f_x3(x) )  # Actually plotting\n",
    "ax.set_xlim(-8, -7)\n",
    "ax.set_ylim(0.6, 0.8)\n",
    "plt.title(\"Zoom x10000\")\n",
    "plt.show()"
   ]
  },
  {
   "cell_type": "markdown",
   "id": "dc678bd0",
   "metadata": {},
   "source": [
    "**We have a pseudo linear function !**, now it is possible to use $\\dfrac{f(x_2) - f(x_1)}{x_2 - x_1}$ to get the slope, we only need to zoom a lot. Since zooming is not practical, we could get the same effect by using $x_1$ and $x_2$ that are separated by a distance $h$. The smaller $h$ the more accurate.\n",
    "\n",
    "# 10.1.1 Excercise\n",
    "\n",
    "You have the following function:\n",
    "\n",
    "$$\n",
    "f(x) = cos(x / 10) + (x/50)^3\n",
    "$$\n",
    "\n",
    "1. Obtain the derivative of $f(x)$ (you can do it by hand)\n",
    "2. Plot $f'(x)$ in the x range {-100, 100}\n",
    "3. Calculate the derivate using:\n",
    "    $$\n",
    "    f'(x) = \\lim_{h \\to 0} \\dfrac{f(x + h) - f(x)}{h} \n",
    "    $$\n",
    "    **HINT:** $h$ is the distance between two points $x_1$ and $x_2$!. You must create a function where $h$ is a parameter that can be changed.\n",
    "4. Plot for different values of $h$\n",
    "5. Calculate the error between $f'(x)$ of point 1 and the different values of $h$\n",
    "6. Create a new plot where the positive slops are green, and the negative slopes are purple.\n",
    "\n"
   ]
  },
  {
   "cell_type": "markdown",
   "id": "95d30411",
   "metadata": {},
   "source": [
    "#### 1. Obtain the derivative of $f(x)$ (you can do it by hand)\n"
   ]
  },
  {
   "cell_type": "code",
   "execution_count": null,
   "id": "17c4d80f",
   "metadata": {},
   "outputs": [],
   "source": [
    "\"<TODO>\""
   ]
  },
  {
   "cell_type": "markdown",
   "id": "71a4e34f",
   "metadata": {},
   "source": [
    "#### 2. Plot $f'(x)$ in the x range {-100, 100}\n"
   ]
  },
  {
   "cell_type": "code",
   "execution_count": null,
   "id": "4a8eabb0",
   "metadata": {},
   "outputs": [],
   "source": [
    "\"<TODO>\""
   ]
  },
  {
   "cell_type": "markdown",
   "id": "f7b93a69",
   "metadata": {},
   "source": [
    "#### 3. Calculate the derivate using:\n",
    "$$\n",
    "f'(x) = \\lim_{h \\to 0} \\dfrac{f(x + h) - f(x)}{h} \n",
    "$$\n",
    "    **HINT:** $h$ is the distance between two points $x_1$ and $x_2$!. You must create a function where $h$ is a parameter that can be changed."
   ]
  },
  {
   "cell_type": "code",
   "execution_count": null,
   "id": "8b7a39fc",
   "metadata": {},
   "outputs": [],
   "source": [
    "\"<TODO>\""
   ]
  },
  {
   "cell_type": "markdown",
   "id": "4bd25490",
   "metadata": {},
   "source": [
    "#### 4. Plot for differents values of $h$\n"
   ]
  },
  {
   "cell_type": "code",
   "execution_count": null,
   "id": "621a25d3",
   "metadata": {},
   "outputs": [],
   "source": [
    "\"<TODO>\""
   ]
  },
  {
   "cell_type": "markdown",
   "id": "450f77ed",
   "metadata": {},
   "source": [
    "#### 5. Calculate the error between $f'(x)$ of point 1 and the different values of $h$\n"
   ]
  },
  {
   "cell_type": "code",
   "execution_count": null,
   "id": "4bb017d6",
   "metadata": {},
   "outputs": [],
   "source": [
    "\"<TODO>\""
   ]
  },
  {
   "cell_type": "markdown",
   "id": "336c76eb",
   "metadata": {},
   "source": [
    "#### 6. Create a new plot of where the positives slops are green and negatives slopes are purple.\n"
   ]
  },
  {
   "cell_type": "code",
   "execution_count": null,
   "id": "b66dd4e9",
   "metadata": {},
   "outputs": [],
   "source": [
    "\"<TODO>\""
   ]
  },
  {
   "cell_type": "markdown",
   "id": "a04565c3",
   "metadata": {},
   "source": [
    "# **Don't forget to send your work!**\n"
   ]
  },
  {
   "cell_type": "markdown",
   "id": "7596c5ec",
   "metadata": {},
   "source": [
    "Please don't forget to send your work to give you feedback about your progress to this [form](https://forms.gle/VjepgcVYe9ZYab269). To send it, you need to download the Notebook from Colab's webpage and upload it in the last question of the form.\n"
   ]
  },
  {
   "cell_type": "code",
   "execution_count": null,
   "id": "5658695d",
   "metadata": {},
   "outputs": [],
   "source": []
  }
 ],
 "metadata": {
  "kernelspec": {
   "display_name": "Python 3 (ipykernel)",
   "language": "python",
   "name": "python3"
  },
  "language_info": {
   "codemirror_mode": {
    "name": "ipython",
    "version": 3
   },
   "file_extension": ".py",
   "mimetype": "text/x-python",
   "name": "python",
   "nbconvert_exporter": "python",
   "pygments_lexer": "ipython3",
   "version": "3.9.7"
  }
 },
 "nbformat": 4,
 "nbformat_minor": 5
}
