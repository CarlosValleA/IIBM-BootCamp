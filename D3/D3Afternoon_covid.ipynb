{
 "cells": [
  {
   "cell_type": "markdown",
   "id": "b04a9d23",
   "metadata": {},
   "source": [
    "## IIBM Bootcamp 2022: Day 1 Afternoon"
   ]
  },
  {
   "cell_type": "markdown",
   "id": "9ae300a6",
   "metadata": {},
   "source": [
    "### Instructors Carlos Valle (cgvalle@uc.cl) and Gabriela Vargas (givargas@uc.cl)\n"
   ]
  },
  {
   "cell_type": "markdown",
   "id": "508e1926",
   "metadata": {},
   "source": [
    "\n",
    "### Day Agenda:\n",
    "\n",
    "***Morning***\n",
    "1. Working with NumPy\n",
    "    * Arrays\n",
    "    * Vector operations\n",
    "    * Matrix operations\n",
    "    * point-wise operations\n",
    "2. Working with Matplotlib\n",
    "    * Anatomy of a figure\n",
    "    * Fundamental principles of ploting library\n",
    "    * Design of a figure\n",
    "    * Types of figures\n",
    "***Afternoon***\n",
    "\n",
    "3. Group Project\n",
    "    * Working with real-world data\n",
    "4. Don't forget to send your work!\n",
    "\n"
   ]
  },
  {
   "cell_type": "markdown",
   "id": "a5b08ac6",
   "metadata": {},
   "source": [
    "# 3. Group Project\n",
    "\n"
   ]
  },
  {
   "cell_type": "markdown",
   "id": "9e61fcca",
   "metadata": {},
   "source": [
    "The covid pandemic is still not over, and you are given the task to analyze it. You will plot and get general stats of the progress in the pandemic in this exercise. "
   ]
  },
  {
   "cell_type": "markdown",
   "id": "f77f52d8",
   "metadata": {},
   "source": [
    "\n",
    "Since you are going to use math operations and plots. Import the neccesary libraries\n",
    "## Libraries"
   ]
  },
  {
   "cell_type": "code",
   "execution_count": 1,
   "id": "7b5d9697",
   "metadata": {},
   "outputs": [
    {
     "data": {
      "text/plain": [
       "'<TODO>'"
      ]
     },
     "execution_count": 1,
     "metadata": {},
     "output_type": "execute_result"
    }
   ],
   "source": [
    "# Import the two necessary libraries\n",
    "\"<TODO>\""
   ]
  },
  {
   "cell_type": "markdown",
   "id": "b10862d3",
   "metadata": {},
   "source": [
    "Since we have tool prepare. Let's now download the data and load it to colab. The data was downloaded from Github repor of [MinCiencia](https://github.com/MinCiencia/Datos-COVID19) HINT: You will probably need NumPy at the last step of preparing the data."
   ]
  },
  {
   "cell_type": "markdown",
   "id": "5d50bb26",
   "metadata": {},
   "source": [
    "## Loading and preparing data"
   ]
  },
  {
   "cell_type": "code",
   "execution_count": null,
   "id": "fd532c2e",
   "metadata": {},
   "outputs": [],
   "source": [
    "!wget https://raw.githubusercontent.com/CarlosValleA/IIBM-BootCamp/main/data/casos_nuevos.csv"
   ]
  },
  {
   "cell_type": "code",
   "execution_count": null,
   "id": "13592d84",
   "metadata": {},
   "outputs": [],
   "source": [
    "# Loading Data\n",
    "with open('casos_nuevos.csv', 'r') as file:\n",
    "    lines = file.read()\n",
    "    lines = lines.split('\\n')\n",
    "\n",
    "# Formating data <TODO> (The final array of this section should be a numpy array)\n"
   ]
  },
  {
   "cell_type": "markdown",
   "id": "d8e196ac",
   "metadata": {},
   "source": [
    "## Getting some useful information\n",
    "Get the weekly mean and standar deviation of the number of new covid cases. **Use NumPy Arrays!!!**"
   ]
  },
  {
   "cell_type": "code",
   "execution_count": null,
   "id": "581ec93f",
   "metadata": {},
   "outputs": [],
   "source": [
    "weekly_mean = \"<TODO>\" \n",
    "weekly_std = \"<TODO>\"\n"
   ]
  },
  {
   "cell_type": "markdown",
   "id": "3eb991d1",
   "metadata": {},
   "source": [
    "## Plots: Plot the daily cases\n",
    "The plot must include the parameters:\n",
    "* x and y labels\n",
    "* title\n",
    "* Line must be red\n",
    "* add legend"
   ]
  },
  {
   "cell_type": "code",
   "execution_count": null,
   "id": "913e5e86",
   "metadata": {},
   "outputs": [],
   "source": [
    "\"<TODO>\""
   ]
  },
  {
   "cell_type": "markdown",
   "id": "7934589f",
   "metadata": {},
   "source": [
    "## Plots: Plot the daily cases\n",
    "Including the paramters of the previous exercise, plot weekly and standar deviation in the same plot."
   ]
  },
  {
   "cell_type": "code",
   "execution_count": null,
   "id": "2c5cea18",
   "metadata": {},
   "outputs": [],
   "source": [
    "\"<TODO>\""
   ]
  },
  {
   "cell_type": "markdown",
   "id": "85039b3e",
   "metadata": {},
   "source": [
    "# 4. Don't forget to send your work!"
   ]
  },
  {
   "cell_type": "markdown",
   "id": "32f3daf9",
   "metadata": {},
   "source": [
    "Please don't forget to send your work to give you feedback about your progress to this [form](https://forms.gle/VjepgcVYe9ZYab269). To send it, you need to download the Notebook from Colab's webpage and upload it in the last question of the form.\n"
   ]
  },
  {
   "cell_type": "code",
   "execution_count": null,
   "id": "c1d2d57d",
   "metadata": {},
   "outputs": [],
   "source": []
  }
 ],
 "metadata": {
  "kernelspec": {
   "display_name": "Python 3 (ipykernel)",
   "language": "python",
   "name": "python3"
  },
  "language_info": {
   "codemirror_mode": {
    "name": "ipython",
    "version": 3
   },
   "file_extension": ".py",
   "mimetype": "text/x-python",
   "name": "python",
   "nbconvert_exporter": "python",
   "pygments_lexer": "ipython3",
   "version": "3.9.7"
  }
 },
 "nbformat": 4,
 "nbformat_minor": 5
}
