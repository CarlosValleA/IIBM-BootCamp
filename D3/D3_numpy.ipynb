{
 "cells": [
  {
   "cell_type": "markdown",
   "id": "413e62f7",
   "metadata": {},
   "source": [
    "## IIBM Bootcamp 2022: Day 3 Morning"
   ]
  },
  {
   "cell_type": "markdown",
   "id": "033bcff5",
   "metadata": {},
   "source": [
    "### Instructors Carlos Valle (cgvalle@uc.cl) and Gabriela Vargas (givargas@uc.cl)"
   ]
  },
  {
   "cell_type": "markdown",
   "id": "e620e2c2",
   "metadata": {},
   "source": [
    "This jupyter noteboook will cover the use of the libraries NumPy and Matplotlib.\n",
    "\n",
    "### Day Agenda:\n",
    "\n",
    "***Morning***\n",
    "1. Working with NumPy\n",
    "    * Arrays\n",
    "    * Vector operations\n",
    "    * Matrix operations\n",
    "    * point-wise operations\n",
    "2. Working with Matplotlib\n",
    "    * Anatomy of a figure\n",
    "    * Fundamental principles of ploting library\n",
    "    * Design of a figure\n",
    "    * Types of figures\n",
    "    \n",
    "***Afternoon***\n",
    "3. Group Project\n",
    "    * Working with real-world data\n",
    "\n",
    "4. Don't forget to send your work!\n",
    "\n"
   ]
  },
  {
   "cell_type": "markdown",
   "id": "05c2bbd9",
   "metadata": {},
   "source": [
    "# 1. Working with NumPy"
   ]
  },
  {
   "cell_type": "markdown",
   "id": "0165abc6",
   "metadata": {},
   "source": [
    "NumPy is a Python library used for working with arrays (Matrixs and Vectors) that contain numerical data (`float`, `int`). Is one of the most (if not the most) package for working in scientific computing in Python. It provides multidimensional array definitions, and several handie functions that are common while working with arrays."
   ]
  },
  {
   "cell_type": "markdown",
   "id": "be888112",
   "metadata": {},
   "source": [
    "Since NumPy is an external package to Python, it needs to be installed. Fortunately, Google Colab provides it by default. If it is not installed, you can installed running `pip install numpy` in your computer terminal."
   ]
  },
  {
   "cell_type": "markdown",
   "id": "8a766ebe",
   "metadata": {},
   "source": [
    "Let's see how to use it!. First it needs to be imported with the line `import numpy`. However, it is common for this library to be loaded as `import numpy as np`, where now you can use it by only typing `np`."
   ]
  },
  {
   "cell_type": "code",
   "execution_count": 1,
   "id": "dfce6977",
   "metadata": {},
   "outputs": [],
   "source": [
    "import numpy as np  # NumPy is not imported and ready to be use"
   ]
  },
  {
   "cell_type": "markdown",
   "id": "e89db439",
   "metadata": {},
   "source": [
    "As mentioned before, NumPy is the defecto library for working with ararys. Let's create one:"
   ]
  },
  {
   "cell_type": "code",
   "execution_count": 2,
   "id": "6ad0dc8c",
   "metadata": {},
   "outputs": [],
   "source": [
    "# Out first numpy array\n",
    "example_array = np.array([1, 2, 3, 4])"
   ]
  },
  {
   "cell_type": "markdown",
   "id": "b1ddc627",
   "metadata": {},
   "source": [
    "The variable `first_array` has a vector with the elements `[1, 2, 3, 4]`. If we check the type, it corresponds to a `numpy.ndarray`. `ndarray` is the type of the variable (like `int`, `float`, `list`, `dict`, etc.)"
   ]
  },
  {
   "cell_type": "code",
   "execution_count": 3,
   "id": "1d2f164d",
   "metadata": {},
   "outputs": [
    {
     "data": {
      "text/plain": [
       "numpy.ndarray"
      ]
     },
     "execution_count": 3,
     "metadata": {},
     "output_type": "execute_result"
    }
   ],
   "source": [
    "type(example_array)"
   ]
  },
  {
   "cell_type": "markdown",
   "id": "b43303ff",
   "metadata": {},
   "source": [
    "## Wait, is the input of `np.array` a list ? yes"
   ]
  },
  {
   "cell_type": "markdown",
   "id": "35339475",
   "metadata": {},
   "source": [
    "If we need a list to create and array, why don't we just use a list ?. The answer is that Python implementation of lists is not really fast. Let's test it by comparing the time of summing two arrays"
   ]
  },
  {
   "cell_type": "code",
   "execution_count": 4,
   "id": "a025ae95",
   "metadata": {},
   "outputs": [],
   "source": [
    "vector_size = 100000\n",
    "\n",
    "# Creating vectors\n",
    "list_vector_A = list(range(vector_size))  # List\n",
    "list_vector_B = list(range(10, vector_size + 10))  # List\n"
   ]
  },
  {
   "cell_type": "code",
   "execution_count": 5,
   "id": "4d661abc",
   "metadata": {},
   "outputs": [
    {
     "name": "stdout",
     "output_type": "stream",
     "text": [
      "CPU times: user 15.1 ms, sys: 3.71 ms, total: 18.8 ms\n",
      "Wall time: 18.4 ms\n"
     ]
    }
   ],
   "source": [
    "def python_sum(vector_a, vector_b):\n",
    "    final_vector = []\n",
    "    N = len(vector_a)\n",
    "    for i in range(N):\n",
    "        final_vector.append(vector_a[i] + vector_b[i])\n",
    "\n",
    "%time python_sum(list_vector_A, list_vector_B)"
   ]
  },
  {
   "cell_type": "code",
   "execution_count": 6,
   "id": "e7d7f588",
   "metadata": {},
   "outputs": [
    {
     "name": "stdout",
     "output_type": "stream",
     "text": [
      "CPU times: user 1.58 ms, sys: 731 µs, total: 2.31 ms\n",
      "Wall time: 2.45 ms\n"
     ]
    }
   ],
   "source": [
    "def numpy_sum(vector_a, vector_b):\n",
    "    final_vector = vector_a + vector_b\n",
    "\n",
    "%time numpy_sum(list_vector_A, list_vector_B)    "
   ]
  },
  {
   "cell_type": "markdown",
   "id": "885cb896",
   "metadata": {},
   "source": [
    "Not only the NumPy way was **faster**, but also a **lot simpler**."
   ]
  },
  {
   "cell_type": "markdown",
   "id": "32dae938",
   "metadata": {},
   "source": [
    "## Arrays: `ndarray` objects have a lot of useful information and methods"
   ]
  },
  {
   "cell_type": "markdown",
   "id": "97a27c65",
   "metadata": {},
   "source": [
    "Some usefull methods are:\n",
    "### [`ndarray.shape` ](https://numpy.org/doc/stable/reference/generated/numpy.ndarray.shape.html) returns dimension of the array"
   ]
  },
  {
   "cell_type": "code",
   "execution_count": 7,
   "id": "f7b9979f",
   "metadata": {},
   "outputs": [
    {
     "data": {
      "text/plain": [
       "(4,)"
      ]
     },
     "execution_count": 7,
     "metadata": {},
     "output_type": "execute_result"
    }
   ],
   "source": [
    "# A list only has one dimension!\n",
    "array = np.array([1, 2, 3, 4])\n",
    "array.shape"
   ]
  },
  {
   "cell_type": "code",
   "execution_count": 8,
   "id": "4ed6d9c6",
   "metadata": {},
   "outputs": [
    {
     "data": {
      "text/plain": [
       "(1, 4)"
      ]
     },
     "execution_count": 8,
     "metadata": {},
     "output_type": "execute_result"
    }
   ],
   "source": [
    "# A list inside a list has two dimension!\n",
    "array = np.array([[1, 2, 3, 4]])\n",
    "array.shape"
   ]
  },
  {
   "cell_type": "code",
   "execution_count": 9,
   "id": "da60e64d",
   "metadata": {},
   "outputs": [
    {
     "data": {
      "text/plain": [
       "(1, 1, 4)"
      ]
     },
     "execution_count": 9,
     "metadata": {},
     "output_type": "execute_result"
    }
   ],
   "source": [
    "# A list inside a list inside a list has three dimensions!\n",
    "array = np.array([[[1, 2, 3, 4]]])\n",
    "array.shape"
   ]
  },
  {
   "cell_type": "markdown",
   "id": "4b6ad761",
   "metadata": {},
   "source": [
    "### [`ndarray.dtype` ](https://numpy.org/doc/stable/reference/generated/numpy.ndarray.dtype.html) returns the type of number inside"
   ]
  },
  {
   "cell_type": "code",
   "execution_count": 10,
   "id": "715b0234",
   "metadata": {},
   "outputs": [
    {
     "data": {
      "text/plain": [
       "dtype('int64')"
      ]
     },
     "execution_count": 10,
     "metadata": {},
     "output_type": "execute_result"
    }
   ],
   "source": [
    "# Since all numbers inside are int, the type is also a int\n",
    "array = np.array([[1, 2, 3, 4]])\n",
    "array.dtype"
   ]
  },
  {
   "cell_type": "code",
   "execution_count": 11,
   "id": "f38c690f",
   "metadata": {},
   "outputs": [
    {
     "data": {
      "text/plain": [
       "dtype('float64')"
      ]
     },
     "execution_count": 11,
     "metadata": {},
     "output_type": "execute_result"
    }
   ],
   "source": [
    "# Since all numbers inside are float, the type is also a float\n",
    "array = np.array([[1.0, 2.0, 3.0, 4.0]])\n",
    "array.dtype"
   ]
  },
  {
   "cell_type": "code",
   "execution_count": 12,
   "id": "1a6d9978",
   "metadata": {},
   "outputs": [
    {
     "data": {
      "text/plain": [
       "dtype('float64')"
      ]
     },
     "execution_count": 12,
     "metadata": {},
     "output_type": "execute_result"
    }
   ],
   "source": [
    "# Since one of the numbers inside is a float, the type is also a float\n",
    "array = np.array([[1.0, 2, 3, 4]])\n",
    "array.dtype"
   ]
  },
  {
   "cell_type": "markdown",
   "id": "ffd81d38",
   "metadata": {},
   "source": [
    "### [`ndarray.T` ](https://numpy.org/doc/stable/reference/generated/numpy.ndarray.T.html)  return a transpose array"
   ]
  },
  {
   "cell_type": "code",
   "execution_count": 13,
   "id": "c6a1f6f2",
   "metadata": {},
   "outputs": [
    {
     "name": "stdout",
     "output_type": "stream",
     "text": [
      "Original Array dimension: (1, 4)\n",
      "Original Array dimension: (4, 1)\n"
     ]
    }
   ],
   "source": [
    "array = np.array([[1.0, 2, 3, 4]])\n",
    "print(\"Original Array dimension:\", array.shape)\n",
    "\n",
    "array_transpose = array.T\n",
    "print(\"Original Array dimension:\", array_transpose.shape)"
   ]
  },
  {
   "cell_type": "markdown",
   "id": "17c15c8d",
   "metadata": {},
   "source": [
    "## Arrays can have lots of dimension"
   ]
  },
  {
   "cell_type": "code",
   "execution_count": 14,
   "id": "6f23b04a",
   "metadata": {},
   "outputs": [
    {
     "name": "stdout",
     "output_type": "stream",
     "text": [
      "(4, 3, 2, 5)\n"
     ]
    }
   ],
   "source": [
    "multi_dim_array = np.random.rand(4, 3, 2, 5)\n",
    "#print(multi_dim_array)\n",
    "print(multi_dim_array.shape)"
   ]
  },
  {
   "cell_type": "markdown",
   "id": "8c4bb215",
   "metadata": {},
   "source": [
    "## Array Multiplication"
   ]
  },
  {
   "cell_type": "markdown",
   "id": "2e18e32e",
   "metadata": {},
   "source": [
    "![multiplication](https://raw.githubusercontent.com/CarlosValleA/IIBM-BootCamp/main/images/D2_matrix_mul.png)"
   ]
  },
  {
   "cell_type": "markdown",
   "id": "edeeb990",
   "metadata": {},
   "source": [
    "## Vector normal multiplication"
   ]
  },
  {
   "cell_type": "code",
   "execution_count": 52,
   "id": "312b4e99",
   "metadata": {},
   "outputs": [
    {
     "data": {
      "text/plain": [
       "array([[30]])"
      ]
     },
     "execution_count": 52,
     "metadata": {},
     "output_type": "execute_result"
    }
   ],
   "source": [
    "# Normal multiplication\n",
    "array_1 = np.array([[1, 2, 3, 4]])\n",
    "array_2 = np.array([[1, 2, 3, 4]]).T\n",
    "np.matmul(array_1, array_2)"
   ]
  },
  {
   "cell_type": "markdown",
   "id": "19d81ba3",
   "metadata": {},
   "source": [
    "## Vector dot multiplication"
   ]
  },
  {
   "cell_type": "code",
   "execution_count": 53,
   "id": "54dd313c",
   "metadata": {},
   "outputs": [
    {
     "data": {
      "text/plain": [
       "array([[ 1,  4,  9, 16]])"
      ]
     },
     "execution_count": 53,
     "metadata": {},
     "output_type": "execute_result"
    }
   ],
   "source": [
    "array_1 = np.array([[1, 2, 3, 4]])\n",
    "array_2 = np.array([[1, 2, 3, 4]])\n",
    "array_1 * array_2 # Dot product"
   ]
  },
  {
   "cell_type": "markdown",
   "id": "92b6bf01",
   "metadata": {},
   "source": [
    "## Matrix normal multiplication"
   ]
  },
  {
   "cell_type": "code",
   "execution_count": 58,
   "id": "e0850a86",
   "metadata": {},
   "outputs": [
    {
     "data": {
      "text/plain": [
       "array([[4, 1],\n",
       "       [2, 2]])"
      ]
     },
     "execution_count": 58,
     "metadata": {},
     "output_type": "execute_result"
    }
   ],
   "source": [
    "matrix_1 = np.array([[1, 0], [0, 1]])\n",
    "matrix_2 = np.array([[4, 1], [2, 2]])\n",
    "np.matmul(matrix_1, matrix_2)"
   ]
  },
  {
   "cell_type": "markdown",
   "id": "6ee4dc1f",
   "metadata": {},
   "source": [
    "## Matrix dot multiplication"
   ]
  },
  {
   "cell_type": "code",
   "execution_count": 70,
   "id": "0e8ecf41",
   "metadata": {},
   "outputs": [
    {
     "data": {
      "text/plain": [
       "array([[4, 0],\n",
       "       [0, 2]])"
      ]
     },
     "execution_count": 70,
     "metadata": {},
     "output_type": "execute_result"
    }
   ],
   "source": [
    "matrix_1 = np.array([[1, 0], [0, 1]])\n",
    "matrix_2 = np.array([[4, 1], [2, 2]])\n",
    "matrix_1 * matrix_2"
   ]
  },
  {
   "cell_type": "markdown",
   "id": "0bb225bf",
   "metadata": {},
   "source": [
    "Mores methods `ndarray` can be found [here](https://numpy.org/doc/stable/reference/generated/numpy.ndarray.html)"
   ]
  },
  {
   "cell_type": "markdown",
   "id": "9709bfac",
   "metadata": {},
   "source": [
    "# 3.1 Exercise "
   ]
  },
  {
   "cell_type": "markdown",
   "id": "e532928b",
   "metadata": {},
   "source": [
    "Create a numpy a array with the shape\n",
    "$$\n",
    "array = \n",
    "\\left [ \\begin{array}{c} \n",
    "0.8 & 1.2\\\\\n",
    "-0.4 & -0.1\\\\\n",
    "-0.6 & -0.9\n",
    "\\end{array}\\right ]\n",
    "$$ "
   ]
  },
  {
   "cell_type": "code",
   "execution_count": 71,
   "id": "be0ab3ea",
   "metadata": {},
   "outputs": [],
   "source": [
    "array = \"<TODO>\""
   ]
  },
  {
   "cell_type": "markdown",
   "id": "401fe743",
   "metadata": {},
   "source": [
    "# 3.2 Exercise "
   ]
  },
  {
   "cell_type": "markdown",
   "id": "54a4cdc6",
   "metadata": {},
   "source": [
    "Sum all the elements of the previous array"
   ]
  },
  {
   "cell_type": "code",
   "execution_count": null,
   "id": "e3c6cf83",
   "metadata": {},
   "outputs": [],
   "source": [
    "array_sum = \"<TODO>\""
   ]
  },
  {
   "cell_type": "markdown",
   "id": "fded1d28",
   "metadata": {},
   "source": [
    "# 3.3 Exercise "
   ]
  },
  {
   "cell_type": "markdown",
   "id": "a56bce1f",
   "metadata": {},
   "source": [
    "Multiply the array by itself. **HINT: you may need to transpose!**"
   ]
  },
  {
   "cell_type": "code",
   "execution_count": null,
   "id": "5f020605",
   "metadata": {},
   "outputs": [],
   "source": [
    "array_multi = \"<TODO>\""
   ]
  },
  {
   "cell_type": "markdown",
   "id": "dc10e686",
   "metadata": {},
   "source": [
    "# 3.4 Exercise "
   ]
  },
  {
   "cell_type": "markdown",
   "id": "82961d0e",
   "metadata": {},
   "source": [
    "Point-wise multiplication of created array."
   ]
  },
  {
   "cell_type": "code",
   "execution_count": null,
   "id": "45ed3f61",
   "metadata": {},
   "outputs": [],
   "source": [
    "array_point = \"<TODO>\""
   ]
  },
  {
   "cell_type": "markdown",
   "id": "b9efbc45",
   "metadata": {},
   "source": [
    "# 4. Don't forget to send your work!"
   ]
  },
  {
   "cell_type": "markdown",
   "id": "05693054",
   "metadata": {},
   "source": [
    "Please don't forget to send your work to give you feedback about your progress to this [form](https://forms.gle/VjepgcVYe9ZYab269). To send it, you need to download the Notebook from Colab's webpage and upload it in the last question of the form.\n"
   ]
  },
  {
   "cell_type": "code",
   "execution_count": null,
   "id": "ba4cc99c",
   "metadata": {},
   "outputs": [],
   "source": []
  }
 ],
 "metadata": {
  "kernelspec": {
   "display_name": "Python 3 (ipykernel)",
   "language": "python",
   "name": "python3"
  },
  "language_info": {
   "codemirror_mode": {
    "name": "ipython",
    "version": 3
   },
   "file_extension": ".py",
   "mimetype": "text/x-python",
   "name": "python",
   "nbconvert_exporter": "python",
   "pygments_lexer": "ipython3",
   "version": "3.9.7"
  }
 },
 "nbformat": 4,
 "nbformat_minor": 5
}
