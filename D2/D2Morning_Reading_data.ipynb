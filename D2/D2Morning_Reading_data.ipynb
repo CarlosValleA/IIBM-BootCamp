{
  "nbformat": 4,
  "nbformat_minor": 0,
  "metadata": {
    "colab": {
      "name": "D2Morning_Reading data.ipynb",
      "provenance": []
    },
    "kernelspec": {
      "name": "python3",
      "display_name": "Python 3"
    },
    "language_info": {
      "name": "python"
    }
  },
  "cells": [
    {
      "cell_type": "markdown",
      "source": [
        "## IIBM Bootcamp 2022: Day 2 Morning\n",
        "\n",
        "### Instructors Carlos Valle (cgvalle@uc.cl) and Gabriela Vargas (givargas@uc.cl)\n",
        "\n",
        "This jupyter notebook will cover the basics of data reading and writing in Python."
      ],
      "metadata": {
        "id": "GiyX0MPLDtU4"
      }
    },
    {
      "cell_type": "markdown",
      "source": [
        "# Content of the day\n",
        "\n",
        "1. [Operators](#Letssum)\n",
        "  1. [Let's sum() ](#Operators)\n",
        "    1. [Ejemplo 1-Arithmetics](#Ejemplo1-Arithmetics)\n",
        "    2. [Ejemplo 2-Concatenation](#Ejemplo2-Concatenation)\n",
        "  2. [Other operations](#Otheroperations)\n",
        "\n",
        "2. [Working with data](#Workingwithdata)\n",
        "    1. [Load](#Load)\n",
        "    2. [Pre process](#Preprocess)\n",
        "    3. [Functions](#Functions)\n",
        "3. [Excerise](#dnaexcersise) \n",
        "4. [Images](#Images)\n",
        "5. [Good practices](#Goodpractices)\n",
        "6. [Annexes](#Annexes)"
      ],
      "metadata": {
        "id": "yDp-rBRdDxyi"
      }
    },
    {
      "cell_type": "markdown",
      "metadata": {
        "id": "BS33Hp3RXnEN"
      },
      "source": [
        "# What are operators?\n",
        "\n",
        "\n"
      ]
    },
    {
      "cell_type": "markdown",
      "source": [
        "\n",
        "Operators are symbols that tell the interpreter - in this case Python- to perform a specific operation, such as arithmetic, comparison, logical, etc.\n",
        "Operators are used to carry out operations on one, two or more elements called operands. The operands can be variables, literals, the value returned by an expression, or the value returned by a function.\n",
        "\n",
        "Operators can be:\n",
        "\n",
        "1.  Arithmetics: It takes two operands as input, performs a calculation, and returns the result (+,-,*,**,%,/,//).\n",
        "2.  Relational: It is used to compare and establish the relationship between operands. Returns a Boolean value (true or false) based on the condition (>,<,==,>=,<=,!=).\n",
        "3.  Bit to Bit: Performs bitwise operators (&,|,^,~,>>,<<).\n",
        "4.  Asignation: Assign values to a variable. These are generally combined with other operators (=,+=,-=,/=,&=,<<=, etc).\n",
        "5.  Logic: Are used to make a decision based on multiple conditions ('and', 'or',' not').\n",
        "6.  Membership: Are used to identify membership in some sequence ('in', 'not in')\n",
        "7.  Identity: Are used to check if two variables use the same memory location ('is', 'is not')"
      ],
      "metadata": {
        "id": "KQZm2mJrD14f"
      }
    },
    {
      "cell_type": "markdown",
      "metadata": {
        "id": "hOzcaplnb9l2"
      },
      "source": [
        "## Arithmetic Operators\n",
        "\n",
        "The simplest operators are the arithmetics ones\n",
        "\n",
        "**Python Arithmetic Operators**\n",
        "\n",
        "Operator  |      Name      | Behavior\n",
        "----------|----------------| ---------------------------\n",
        "   +      |     Addition   |   Add 2 operands      \n",
        "   -      |  Substraction  |   Subtract the second value from the first value     \n",
        "   *      | Multiplication |   Find the product of 2 values      \n",
        "   /      |    Division    |   Find the quotient when first operand is divided by the second\n",
        "   %      |    Modulus     |  Find the remainder when first operand is divided by the second\n",
        "   **     |  Exponentation |  Raise the first operand to power of second\n",
        "   //     | Floor division |  Find the floorof the quotient when first operand is divided by the second\n",
        "\n",
        "\n",
        "## Let's sum\n",
        "\n",
        " The most simplest is the operator *addition* (+) that could be is use to performs the arithmetic mathematical operations of addition between **numeric variables**.\n",
        "\n",
        "## Example 1 \n",
        "Here, consider the expression \"c = a + b\".\n",
        "\n",
        "We identify\n",
        "1. The assignment operator, separating the expression between the left side, 'c,' and the right side 'a' and 'b.' Here, the values 'a' and 'b' are assigned to 'c' .\n",
        "2. In the middle of 'a' and 'b' is the arithmetic addition operator."
      ]
    },
    {
      "cell_type": "code",
      "execution_count": null,
      "metadata": {
        "id": "6Y5meU4nDjV-"
      },
      "outputs": [],
      "source": [
        "# To solve the expresion, first we create the variables 'a' and 'b' \n",
        "# with integer values '1.1' and '3.6'\n",
        "\n",
        "\"<TO DO> = <TO DO>\"\n",
        "\"<TO DO> =  <TO DO>\" \n"
      ]
    },
    {
      "cell_type": "code",
      "source": [
        "# Here we sum 'a' and 'b'and store in variable 'c'.\n",
        "# The variables store the operands, and + is the arithmetic operator. \n",
        "# The result of the operation is stored in variable c.\n",
        "\"<TO DO> = <TO DO> +  <TO DO> \""
      ],
      "metadata": {
        "id": "t6Z1Vk5HEBXO"
      },
      "execution_count": null,
      "outputs": []
    },
    {
      "cell_type": "code",
      "source": [
        "# run HERE to print the numeric variable result\n",
        "print (f\"The value of you variable 'c' is equal to: {c}\")"
      ],
      "metadata": {
        "id": "mdrCdxb8EE1o"
      },
      "execution_count": null,
      "outputs": []
    },
    {
      "cell_type": "markdown",
      "metadata": {
        "id": "8kHOBlL8VE23"
      },
      "source": [
        "## Example 2 \n",
        "You can also perform the operator *addition* between **\"string (str)\"** variables. Here it is called a ***concatenation*** between strings, generating a new string.\n",
        "\n",
        "Here, we consider the 'Hola Mundo!' example"
      ]
    },
    {
      "cell_type": "code",
      "execution_count": null,
      "metadata": {
        "id": "Rs_zpyVvMgIx"
      },
      "outputs": [],
      "source": [
        "# First we write two strings\n",
        "\"<TO DO>=\"\n",
        "\"<TO DO>=\""
      ]
    },
    {
      "cell_type": "code",
      "source": [
        "# We concatenate the strings\n",
        "saludo = \"<TO DO>\""
      ],
      "metadata": {
        "id": "bJQZJq7fEPsY"
      },
      "execution_count": null,
      "outputs": []
    },
    {
      "cell_type": "code",
      "source": [
        "# We print the result\n",
        "print(f\"Otra vez estamos escribiendo {saludo}\")"
      ],
      "metadata": {
        "id": "IsCs7ciGETZ3"
      },
      "execution_count": null,
      "outputs": []
    },
    {
      "cell_type": "markdown",
      "source": [
        "#Modulus %"
      ],
      "metadata": {
        "id": "8N-LJe4QGojF"
      }
    },
    {
      "cell_type": "code",
      "source": [
        "#Let's create some variables\n",
        "edad1= ..."
      ],
      "metadata": {
        "id": "yjtfsthrEZWW"
      },
      "execution_count": null,
      "outputs": []
    },
    {
      "cell_type": "code",
      "source": [
        "#Now we will operate the modulus of 2 and 3 in some of them"
      ],
      "metadata": {
        "id": "00F962m0EbHj"
      },
      "execution_count": null,
      "outputs": []
    },
    {
      "cell_type": "markdown",
      "source": [
        "By modulus operand we can check that number is even or odd"
      ],
      "metadata": {
        "id": "GoeTzq379Kvu"
      }
    },
    {
      "cell_type": "markdown",
      "metadata": {
        "id": "JExkRWcdCtIc"
      },
      "source": [
        "## Example 3\n",
        "Here, we create the two list of variables.\n",
        "\n",
        "**NOTE** that the name of the list orients the content of it. AVOID the use of uninformative names as 'lista_algo' or 'asdasd'"
      ]
    },
    {
      "cell_type": "code",
      "source": [
        "# Lista 1= A random list of integers\n",
        "\n",
        "#import library\n",
        "'<TO DO>'\n",
        "#generate list\n",
        "rand_list= '<TO DO>' "
      ],
      "metadata": {
        "id": "YljLEevcEgnO"
      },
      "execution_count": null,
      "outputs": []
    },
    {
      "cell_type": "code",
      "source": [
        "#Lista 1: A list called 'seq_list' with the numbers '1','2' and '3' repeated 10 times each\n",
        "\n",
        "seq_list= '<TO DO>' "
      ],
      "metadata": {
        "id": "wYKOVloxEiHD"
      },
      "execution_count": null,
      "outputs": []
    },
    {
      "cell_type": "markdown",
      "source": [
        "##Lets try some other operations"
      ],
      "metadata": {
        "id": "Yt5VOgBO7L9M"
      }
    },
    {
      "cell_type": "code",
      "source": [
        "#Membership\n",
        "result_compare= seq_list in rand_lista1\n",
        "# We compare the lists\n",
        "print(f'El resultado que obtenemos es {result_compare}')"
      ],
      "metadata": {
        "id": "mruP0gkFEmZ_"
      },
      "execution_count": null,
      "outputs": []
    },
    {
      "cell_type": "markdown",
      "metadata": {
        "id": "Nb6e5878HwzL"
      },
      "source": [
        "# Working with data\n",
        "\n",
        "Usually we also work with data from other sources, that could be in formats as .txt, .xlsx, .csv, etc. \n",
        "\n",
        "Now we are going to import some data to work with. "
      ]
    },
    {
      "cell_type": "code",
      "execution_count": null,
      "metadata": {
        "colab": {
          "base_uri": "https://localhost:8080/"
        },
        "id": "GPHts9Mv9I-F",
        "outputId": "5aaa17f1-e81b-4a88-808f-4c248244f140"
      },
      "outputs": [
        {
          "output_type": "stream",
          "name": "stdout",
          "text": [
            "--2022-01-18 11:00:52--  https://raw.githubusercontent.com/CDCgov/SARS-CoV-2_Sequencing/master/sequences/reference-NC_045512.fasta\n",
            "Resolving raw.githubusercontent.com (raw.githubusercontent.com)... 185.199.108.133, 185.199.109.133, 185.199.110.133, ...\n",
            "Connecting to raw.githubusercontent.com (raw.githubusercontent.com)|185.199.108.133|:443... connected.\n",
            "HTTP request sent, awaiting response... 200 OK\n",
            "Length: 30855 (30K) [text/plain]\n",
            "Saving to: ‘reference-NC_045512.fasta’\n",
            "\n",
            "reference-NC_045512 100%[===================>]  30.13K  --.-KB/s    in 0.002s  \n",
            "\n",
            "2022-01-18 11:00:58 (19.1 MB/s) - ‘reference-NC_045512.fasta’ saved [30855/30855]\n",
            "\n"
          ]
        }
      ],
      "source": [
        "#We import a data \n",
        "!wget https://raw.githubusercontent.com/CDCgov/SARS-CoV-2_Sequencing/master/sequences/reference-NC_045512.fasta"
      ]
    },
    {
      "cell_type": "code",
      "source": [
        "#We open ...\n",
        "file=open('reference-NC_045512.fasta')\n",
        "#...and read the data\n",
        "seq_rna_original= file.read()"
      ],
      "metadata": {
        "id": "wfRuBlN0EzZ5"
      },
      "execution_count": null,
      "outputs": []
    },
    {
      "cell_type": "markdown",
      "metadata": {
        "id": "x2g6c--xDX7o"
      },
      "source": [
        "###No we start to preprocess the file\n",
        "\n"
      ]
    },
    {
      "cell_type": "code",
      "source": [
        "#We could evaluate the class and length of the file\n",
        "print(f\"The class is {type(seq_rna_original)}\")\n",
        "print(f\"The number of elements is {len(seq_rna_original)}\")"
      ],
      "metadata": {
        "id": "wVXj4ZLWE4UI"
      },
      "execution_count": null,
      "outputs": []
    },
    {
      "cell_type": "code",
      "source": [
        "# We are going to print to inspect the original sequence \n",
        "seq_rna_original\n",
        "# we notice some unnecesary information that we must remove from our analysis"
      ],
      "metadata": {
        "id": "P8uQsCL9E6b2"
      },
      "execution_count": null,
      "outputs": []
    },
    {
      "cell_type": "code",
      "source": [
        "#We apply the method '.replace()' to remove unnecesary strings\n",
        "seq_clean= seq_rna_original.replace('>NC_045512.2 Severe acute respiratory syndrome coronavirus 2 isolate Wuhan-Hu-1, complete genome','')\n",
        "seq_clean = seq_clean.replace(\"\\n\", \"\")\n",
        "seq_clean = seq_clean.replace(\"\\r\", \"\")"
      ],
      "metadata": {
        "id": "9dikdA9vE9SM"
      },
      "execution_count": null,
      "outputs": []
    },
    {
      "cell_type": "markdown",
      "source": [
        "##SAVE"
      ],
      "metadata": {
        "id": "HZSV3rnRFA7t"
      }
    },
    {
      "cell_type": "code",
      "source": [
        "# Now we save the preprocessing as a new .txt file\n",
        "seq_clean= open('seq_clean.txt','x')"
      ],
      "metadata": {
        "id": "P7zz-xv6FAWO"
      },
      "execution_count": null,
      "outputs": []
    },
    {
      "cell_type": "markdown",
      "metadata": {
        "id": "kNhQOm7XNaXy"
      },
      "source": [
        "## Before we start analyzing the data, we will introduce the **functions**"
      ]
    },
    {
      "cell_type": "markdown",
      "metadata": {
        "id": "Dep76ErzI3GA"
      },
      "source": [
        "# Python Functions\n",
        "\n",
        "So far it has been seen that there are already defined functions that can be used. Examples of these functions are:\n",
        "\n",
        "print ()\n",
        "open ()\n",
        "read ()\n",
        "etc.\n",
        "\n",
        "However, sometimes we need to create functions to perform certain specific tasks. To do this, we must take two aspects into account:\n",
        "\n",
        "* The definition of the function.\n",
        "* The right call of the previously defined function.\n"
      ]
    },
    {
      "cell_type": "markdown",
      "metadata": {
        "id": "4kvHpgaH5b42"
      },
      "source": [
        "# Function Definition\n",
        "\n",
        "To define a function, we must use the word \n",
        "\n",
        "```\n",
        "def\n",
        "```\n",
        "\n",
        "which is a reserved keyword in Python.\n",
        "\n",
        "Functions follow the syntax:\n",
        "\n",
        "```\n",
        "def function_name(parameter1, parameter2, ...):\n",
        "```\n",
        "\n",
        "Every defined function must have a name after the word *def*. This name meets the same variable name restrictions.\n",
        "\n",
        "The input parameters are in *round parentheses* (). The parameters must be separated by **commas** and can be a variable quantity. It ends at the end with the colon character \n",
        "```\n",
        ":\n",
        "```\n",
        "After the first line of code for the function, we must write all instructions. These instructions should be indented so that they are all within the function.\n",
        "\n",
        "In most cases, functions have a particular statement represented by the 'return' keyword. \n",
        "```\n",
        "return\n",
        "```\n",
        "This specific instruction indicates the moment we leave the function, returning some interest value.\n"
      ]
    },
    {
      "cell_type": "code",
      "execution_count": null,
      "metadata": {
        "colab": {
          "base_uri": "https://localhost:8080/"
        },
        "id": "PjWz45Q28EMq",
        "outputId": "ecdca4b8-2bb5-4e52-8282-29e12e4f5240"
      },
      "outputs": [
        {
          "output_type": "stream",
          "name": "stdout",
          "text": [
            "Ingrese el valor capybara:7\n",
            "Ingrese el valor mariposa:8\n",
            "Ingrese el valor pelicano:10\n",
            "Super tierno!\n"
          ]
        }
      ],
      "source": [
        "# A simple example\n",
        "def kawaii(capybara, mariposa, pelicano):\n",
        "  ternura= capybara**2 + mariposa *3 - pelicano \n",
        "  return ternura\n",
        "v1 = float(input('Ingrese el valor capybara:'))\n",
        "v2 = float(input('Ingrese el valor mariposa:'))\n",
        "v3 = float(input('Ingrese el valor pelicano:'))\n",
        "\n",
        "var_resultado = kawaii(v1, v2, v3)\n",
        "\n",
        "if var_resultado < 0:\n",
        "    sol= v3 / (v1 + v2)\n",
        "    print('No es tierno, el tamaño del pelícano tiene una razón de ', sol)\n",
        "else:\n",
        "  if var_resultado == 0:\n",
        "      print('Casi tierno')\n",
        "  if var_resultado > 0:\n",
        "      print('Super tierno!')\n",
        "\n",
        "\n",
        "# With this, we have already developed our first function\n",
        "# but now we need to be able to use it."
      ]
    },
    {
      "cell_type": "markdown",
      "source": [
        "## Prueba obtener 'No es tierno, el tamaño del pelícano tiene una razón de' y 'Casi tierno'"
      ],
      "metadata": {
        "id": "wXSl8_rFK4Fv"
      }
    },
    {
      "cell_type": "markdown",
      "metadata": {
        "id": "d7PIHpB1RHnl"
      },
      "source": [
        "## Function call\n",
        "\n",
        "Once the function is created, as in the previous example, we can use it. This process is commonly called: call the function.\n",
        "\n",
        "To call a function, you must know its name and the parameters it receives. It is important to respect the number of parameters.\n",
        "\n",
        "Following the previous example, calling a function in Python consists of the following:\n"
      ]
    },
    {
      "cell_type": "code",
      "execution_count": null,
      "metadata": {
        "id": "tK7wpGNHMlbq"
      },
      "outputs": [],
      "source": [
        "kawaii_result=kawaii(3, 2, 5)"
      ]
    },
    {
      "cell_type": "code",
      "execution_count": null,
      "metadata": {
        "colab": {
          "base_uri": "https://localhost:8080/"
        },
        "id": "awVNJNrXRmp7",
        "outputId": "43ac60ea-8a26-4aa3-91d8-e79147cffa61"
      },
      "outputs": [
        {
          "data": {
            "text/plain": [
              "10"
            ]
          },
          "execution_count": 49,
          "metadata": {},
          "output_type": "execute_result"
        }
      ],
      "source": [
        "kawaii_result"
      ]
    },
    {
      "cell_type": "markdown",
      "metadata": {
        "id": "NPx9IkDORxsK"
      },
      "source": [
        "## Difference between print() and return\n",
        "\n",
        "```\n",
        "print() \n",
        "```\n",
        "and \n",
        "```\n",
        "return \n",
        "```\n",
        "Can behave very similarly, but they should not be confused, as they are entirely different instructions.\n",
        "* return is the result of a function; therefore it should only go inside a function.\n",
        "* print () is an output of a program. It can go both in a function as in the main program's code (the main).\n",
        "\n",
        "*return* behaves very similarly to *print()* when the function is called from the console (shell).The above changes when the code is run from the file."
      ]
    },
    {
      "cell_type": "markdown",
      "metadata": {
        "id": "Ph8JAw5YWf0D"
      },
      "source": [
        "# From functions to scripts\n",
        "\n",
        "A Python script is a collection of commands in a file designed to be executed like a program. The file can of course contain functions, but the idea is that it will be run or executed from the command line or from within a Python interactive shell to perform a specific task. Often a script first contains a set of function definitions and then has the main program that might call the functions.\n",
        "\n",
        "\n",
        "\n"
      ]
    },
    {
      "cell_type": "code",
      "source": [
        ""
      ],
      "metadata": {
        "id": "Nc0ms655FY3C"
      },
      "execution_count": null,
      "outputs": []
    }
  ]
}