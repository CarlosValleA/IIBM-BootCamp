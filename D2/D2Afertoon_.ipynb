{
  "nbformat": 4,
  "nbformat_minor": 0,
  "metadata": {
    "colab": {
      "name": "D2Afertoon_.ipynb",
      "provenance": []
    },
    "kernelspec": {
      "name": "python3",
      "display_name": "Python 3"
    },
    "language_info": {
      "name": "python"
    }
  },
  "cells": [
    {
      "cell_type": "markdown",
      "source": [
        "## IIBM Bootcamp 2022: Day 2 Afternoon\n",
        "\n",
        "### Instructors Carlos Valle (cgvalle@uc.cl) and Gabriela Vargas (givargas@uc.cl)\n",
        "\n",
        "\n",
        "This jupyter notebook will cover the basics of data reading and writing in Python.\n"
      ],
      "metadata": {
        "id": "G4EJnUo6WDD3"
      }
    },
    {
      "cell_type": "markdown",
      "source": [
        "#Group Project\n",
        "Working with the DNA sequence"
      ],
      "metadata": {
        "id": "1yUY3zjYV-Rx"
      }
    },
    {
      "cell_type": "markdown",
      "source": [
        "With the data we already worked with, we now ask you to build a function to translate DNA sequence into protein sequence. We put at your disposal the dictionary of triples.\n",
        "\n",
        "Good luck!"
      ],
      "metadata": {
        "id": "kfH-DLYW_oUt"
      }
    },
    {
      "cell_type": "code",
      "execution_count": null,
      "metadata": {
        "id": "1u6nfryiELW8"
      },
      "outputs": [],
      "source": [
        "table = {\n",
        "        'ATA':'I', 'ATC':'I', 'ATT':'I', 'ATG':'M',\n",
        "        'ACA':'T', 'ACC':'T', 'ACG':'T', 'ACT':'T',\n",
        "        'AAC':'N', 'AAT':'N', 'AAA':'K', 'AAG':'K',\n",
        "        'AGC':'S', 'AGT':'S', 'AGA':'R', 'AGG':'R',                \n",
        "        'CTA':'L', 'CTC':'L', 'CTG':'L', 'CTT':'L',\n",
        "        'CCA':'P', 'CCC':'P', 'CCG':'P', 'CCT':'P',\n",
        "        'CAC':'H', 'CAT':'H', 'CAA':'Q', 'CAG':'Q',\n",
        "        'CGA':'R', 'CGC':'R', 'CGG':'R', 'CGT':'R',\n",
        "        'GTA':'V', 'GTC':'V', 'GTG':'V', 'GTT':'V',\n",
        "        'GCA':'A', 'GCC':'A', 'GCG':'A', 'GCT':'A',\n",
        "        'GAC':'D', 'GAT':'D', 'GAA':'E', 'GAG':'E',\n",
        "        'GGA':'G', 'GGC':'G', 'GGG':'G', 'GGT':'G',\n",
        "        'TCA':'S', 'TCC':'S', 'TCG':'S', 'TCT':'S',\n",
        "        'TTC':'F', 'TTT':'F', 'TTA':'L', 'TTG':'L',\n",
        "        'TAC':'Y', 'TAT':'Y', 'TAA':'_', 'TAG':'_',\n",
        "        'TGC':'C', 'TGT':'C', 'TGA':'_', 'TGG':'W',\n",
        "         }"
      ]
    },
    {
      "cell_type": "code",
      "source": [
        "'TO DO'"
      ],
      "metadata": {
        "id": "NLOYo3YG_r6O"
      },
      "execution_count": null,
      "outputs": []
    },
    {
      "cell_type": "markdown",
      "source": [
        "## Now we ask to translate the DNA sequence, but this time you will alternate between reading 3 and 4 bases."
      ],
      "metadata": {
        "id": "UtijZd0-_5-u"
      }
    },
    {
      "cell_type": "code",
      "source": [
        "'TO DO'"
      ],
      "metadata": {
        "id": "lBfuRKy-__nz"
      },
      "execution_count": null,
      "outputs": []
    },
    {
      "cell_type": "markdown",
      "source": [
        "## Now you akready finish to translate from DNA to proteins. We ask you to do the inverse process: From proteins to DNA\n",
        "## Encode a phrase using proteins chains"
      ],
      "metadata": {
        "id": "XtTcuu57_yYI"
      }
    },
    {
      "cell_type": "code",
      "source": [
        "'TO DO'"
      ],
      "metadata": {
        "id": "mQdAoITg_5g1"
      },
      "execution_count": null,
      "outputs": []
    },
    {
      "cell_type": "markdown",
      "source": [
        "# 6. Don't forget to send your work!\n",
        "Please don't forget to send your work to give you feedback about your progress. [form](https://forms.gle/VjepgcVYe9ZYab269)"
      ],
      "metadata": {
        "id": "1Nur6JSHACfq"
      }
    },
    {
      "cell_type": "code",
      "source": [
        ""
      ],
      "metadata": {
        "id": "13CBQh6I_7d6"
      },
      "execution_count": null,
      "outputs": []
    }
  ]
}