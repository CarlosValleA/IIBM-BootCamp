{
 "cells": [
  {
   "cell_type": "markdown",
   "id": "6356fbe9",
   "metadata": {
    "id": "6356fbe9"
   },
   "source": [
    "## IIBM Bootcamp 2022: Day 1 Morning"
   ]
  },
  {
   "cell_type": "markdown",
   "id": "fb28b11a",
   "metadata": {
    "id": "fb28b11a"
   },
   "source": [
    "### Instructors Carlos Valle (cgvalle@uc.cl) and Gabriela Vargas (givargas@uc.cl)\n"
   ]
  },
  {
   "cell_type": "markdown",
   "id": "4505fccc",
   "metadata": {
    "id": "4505fccc"
   },
   "source": [
    "This jupyter noteboook will cover the tools that will be used in the IIBM Bootcamp 2022 and elemental Python syntax and functions.\n",
    "\n",
    "### Day Agenda:\n",
    "\n",
    "***Morning***\n",
    "1. Setting up Google Colab\n",
    "2. What is Github\n",
    "3. How the get the material into Colab\n",
    "4. Python variables \n",
    "    * Strings\n",
    "    * Numbers (int, float)\n",
    "    * Booleans\n",
    "    * Lists\n",
    "    * Dicts\n",
    "    \n",
    "***Afternoon***\n",
    "\n",
    "5. Control flow in Python\n",
    "    * for\n",
    "    * while\n",
    "    * if\n",
    "    * continue\n",
    "    * break\n",
    "6. Don't forget to send your work!\n",
    "\n"
   ]
  },
  {
   "cell_type": "markdown",
   "id": "0614fa35",
   "metadata": {
    "id": "0614fa35"
   },
   "source": [
    "----"
   ]
  },
  {
   "cell_type": "markdown",
   "id": "a32077f4",
   "metadata": {
    "id": "a32077f4"
   },
   "source": [
    "# 1. Setting up Google Colab ?"
   ]
  },
  {
   "cell_type": "markdown",
   "id": "ef5a4be8",
   "metadata": {
    "id": "ef5a4be8"
   },
   "source": [
    "### What is Colab?"
   ]
  },
  {
   "cell_type": "markdown",
   "id": "7d4d5aa1",
   "metadata": {
    "id": "7d4d5aa1"
   },
   "source": [
    "Colab is a free tool provided by Google that allows you to **run Python Code in your browser with zero configuration required**!. To use it, just go to the [Colab Webpage](https://colab.research.google.com/) "
   ]
  },
  {
   "cell_type": "markdown",
   "id": "687bb23f",
   "metadata": {
    "id": "687bb23f"
   },
   "source": [
    "![PyTorch Logo](https://raw.githubusercontent.com/CarlosValleA/IIBM-BootCamp/main/images/D1_colab.png)\n"
   ]
  },
  {
   "cell_type": "markdown",
   "id": "71b9d1ed",
   "metadata": {
    "id": "71b9d1ed"
   },
   "source": [
    "Here you can click on **New notebook** to create a new file."
   ]
  },
  {
   "cell_type": "markdown",
   "id": "da66f7e0",
   "metadata": {
    "id": "da66f7e0"
   },
   "source": [
    "Normal Python **uses .py files** (basically text) to store the scripts meanwhile, colab uses **notebooks** (**.ipynb files**) that have individual cells and can be run independently of each other."
   ]
  },
  {
   "cell_type": "markdown",
   "id": "1e5acb99",
   "metadata": {
    "id": "1e5acb99"
   },
   "source": [
    "![Python vs colab](https://raw.githubusercontent.com/CarlosValleA/IIBM-BootCamp/main/images/D1_python_vs_colab.png)"
   ]
  },
  {
   "cell_type": "markdown",
   "id": "ac36f62d",
   "metadata": {
    "id": "ac36f62d"
   },
   "source": [
    "When the execution of the code ends in standard Python the **variables are lost forever** (unless saved), but in Colab , variables are stored forever and you can access to them anywhere and in any cell order. Example:"
   ]
  },
  {
   "cell_type": "code",
   "execution_count": 1,
   "id": "457f0561",
   "metadata": {
    "id": "457f0561"
   },
   "outputs": [],
   "source": [
    "# Lets create some variables\n",
    "people_in_IIBM = \"<TODO>\""
   ]
  },
  {
   "cell_type": "code",
   "execution_count": 2,
   "id": "67a9c611",
   "metadata": {
    "id": "67a9c611",
    "outputId": "b9ee163f-b009-4165-fea0-b6ad9980e538"
   },
   "outputs": [
    {
     "name": "stdout",
     "output_type": "stream",
     "text": [
      "The total number of people is <TODO>\n"
     ]
    }
   ],
   "source": [
    "# Print total number of people in IIBM 2021\n",
    "print(\"The total number of people is\", people_in_IIBM)"
   ]
  },
  {
   "cell_type": "code",
   "execution_count": 3,
   "id": "920cbd70",
   "metadata": {
    "id": "920cbd70"
   },
   "outputs": [],
   "source": [
    "# Add more people\n",
    "people_in_IIBM = \"<TODO>\"  "
   ]
  },
  {
   "cell_type": "code",
   "execution_count": 4,
   "id": "9ba2ea61",
   "metadata": {
    "id": "9ba2ea61",
    "outputId": "2d244a2f-58dd-4ee1-f8a6-50d30e40a3d2"
   },
   "outputs": [
    {
     "name": "stdout",
     "output_type": "stream",
     "text": [
      "The total number of people is <TODO>\n"
     ]
    }
   ],
   "source": [
    "# Print total number of people in IIBM 2022\n",
    "print(\"The total number of people is\", people_in_IIBM)"
   ]
  },
  {
   "cell_type": "markdown",
   "id": "8cb8036b",
   "metadata": {
    "id": "8cb8036b"
   },
   "source": [
    "To run individuals cells in colab, you can use **cmd/crtl+Enter** or **shift+Enter** "
   ]
  },
  {
   "cell_type": "markdown",
   "id": "c83bec33",
   "metadata": {
    "id": "c83bec33"
   },
   "source": [
    "Colab uses by default 2 spaces (0.5 tabs) of indentation, but standard Python uses 4 spaces (1 tab) for indentation. In general, 1 tab is the rule for writing python code, so let's change it in Colab parameters. "
   ]
  },
  {
   "cell_type": "markdown",
   "id": "44ffe09f",
   "metadata": {
    "id": "44ffe09f"
   },
   "source": [
    "![colab indenting](https://raw.githubusercontent.com/CarlosValleA/IIBM-BootCamp/main/images/D1_indenting.png)"
   ]
  },
  {
   "cell_type": "markdown",
   "id": "b99865b8",
   "metadata": {
    "id": "b99865b8"
   },
   "source": [
    "# 2. What is Github ?"
   ]
  },
  {
   "cell_type": "markdown",
   "id": "d13edf07",
   "metadata": {
    "id": "d13edf07"
   },
   "source": [
    "Github is a popular webpage that allows storing code. It has many more features like version control, group collaboration, setting up personal webpages, etc., but that is something that we will not need for this Bootcamp."
   ]
  },
  {
   "cell_type": "markdown",
   "id": "c5d14dfa",
   "metadata": {
    "id": "c5d14dfa"
   },
   "source": [
    "![Github](https://raw.githubusercontent.com/CarlosValleA/IIBM-BootCamp/main/images/D1_github.png)"
   ]
  },
  {
   "cell_type": "markdown",
   "id": "d6a3d521",
   "metadata": {
    "id": "d6a3d521"
   },
   "source": [
    "Projects are stored in **Repositories** (repos). The repository for the Bootcamp can be found here [https://github.com/CarlosValleA/IIBM-BootCamp](https://github.com/CarlosValleA/IIBM-BootCamp)\n",
    "\n",
    "\n",
    "Each day, the files needed will be uploaded here, and you must download them at the beginning of each session. Although sending the material for each session by mail is possible, Github is a tremendous tool that every researcher should use to create replicable analyses and be transparent with the community. As previously stated, we will not use it to its full potential, but we believe that it is good to have a first look at it."
   ]
  },
  {
   "cell_type": "markdown",
   "id": "992bd7e6",
   "metadata": {
    "id": "ea23a075"
   },
   "source": [
    "![Bootcamp Repo](https://raw.githubusercontent.com/CarlosValleA/IIBM-BootCamp/main/images/D1_bootcamp_repo.png)"
   ]
  },
  {
   "cell_type": "markdown",
   "id": "f18ec346",
   "metadata": {},
   "source": [
    "Github has two main parts: codes (or folders) and Readme files. If you click on codes or go inside folders, you can directly look at the source code and download it. Readme files are at the bottom of the page and give information about the repository. "
   ]
  },
  {
   "cell_type": "markdown",
   "id": "e32d0296",
   "metadata": {
    "id": "e32d0296"
   },
   "source": [
    "# 3. How to get the  material into Colab"
   ]
  },
  {
   "cell_type": "markdown",
   "id": "81706875",
   "metadata": {
    "id": "0ba3cb60"
   },
   "source": [
    "To upload the notebooks into Colab, you need to download them from the Bootcamp Github [repo](https://github.com/CarlosValleA/IIBM-BootCamp). Let's click on the file `Example_Notebook.ipynb`."
   ]
  },
  {
   "cell_type": "markdown",
   "id": "34e71ca2",
   "metadata": {
    "id": "34e71ca2"
   },
   "source": [
    "![Example notebook](https://raw.githubusercontent.com/CarlosValleA/IIBM-BootCamp/main/images/D1_example_notebook.png)"
   ]
  },
  {
   "cell_type": "markdown",
   "id": "91d9f3ef",
   "metadata": {},
   "source": [
    "The code inside of `Example_Notebook.ipynb` is completely visible and can be copied, maintaining the syntax and spaces format. Cells can also be observed since `.ipynb` files are based on them.\n",
    "To download the file, you must click on the **Raw** button above the file and then save it with **Save as** using right-click. Once that is complete, the notebook will be stored in your computer."
   ]
  },
  {
   "cell_type": "markdown",
   "id": "40e15d41",
   "metadata": {},
   "source": [
    "To upload the file to [Google Colab](https://colab.research.google.com/), click on the upload tab and select the corresponding file. \n",
    "![colab upload](https://raw.githubusercontent.com/CarlosValleA/IIBM-BootCamp/main/images/D1_colab_upload.png)"
   ]
  },
  {
   "cell_type": "markdown",
   "id": "4c7d5302",
   "metadata": {},
   "source": [
    "Now you can run pre-made Python code from your browser!. We are ready to start coding."
   ]
  },
  {
   "cell_type": "markdown",
   "id": "35e73c8b",
   "metadata": {},
   "source": [
    "![colab ready](https://raw.githubusercontent.com/CarlosValleA/IIBM-BootCamp/main/images/D1_colab_ready.png)"
   ]
  },
  {
   "cell_type": "markdown",
   "id": "5e787951",
   "metadata": {
    "id": "5e787951"
   },
   "source": [
    "# 4. Python Variables"
   ]
  },
  {
   "cell_type": "markdown",
   "id": "80425ece",
   "metadata": {
    "id": "0c3cd625"
   },
   "source": [
    "Variables are the heart of every programming language. They store information or values needed to complete a task within a program. For example, tracking a score in a game, saving the value of a particular count of cells or to remember the order of a particular information."
   ]
  },
  {
   "cell_type": "markdown",
   "id": "c6f7749c",
   "metadata": {
    "id": "c6f7749c"
   },
   "source": [
    "###  Why are they called variables ?"
   ]
  },
  {
   "cell_type": "markdown",
   "id": "3664efe1",
   "metadata": {},
   "source": [
    "Well, it is because they **can change its value** (at least in Python, other languages may not allow it once defined)."
   ]
  },
  {
   "cell_type": "markdown",
   "id": "89c95109",
   "metadata": {},
   "source": [
    "A variable can store lots of different types of information. For example, text (also called `strings` or `str`) or numbers (several types but the most commons are `ints` and `floats`) "
   ]
  },
  {
   "cell_type": "markdown",
   "id": "c96d3fa9",
   "metadata": {},
   "source": [
    "# <center style=\"font-size:8vw\">`variable_name = value`</center>\n"
   ]
  },
  {
   "cell_type": "markdown",
   "id": "d5ed34c5",
   "metadata": {},
   "source": [
    "`variable_name` will store the `value` that you assign to it until deleted. Coding can be hard at times, so to make your life easier, use **descriptive names** to name your variables!!! . If you are talking about a score in a game, use `game_score` instead of short but no context names like `s`."
   ]
  },
  {
   "cell_type": "markdown",
   "id": "88718940",
   "metadata": {},
   "source": [
    "## 4.1 Variable Types"
   ]
  },
  {
   "cell_type": "markdown",
   "id": "41183d60",
   "metadata": {},
   "source": [
    "Variable types allow Python to understand the information that you provided, so it knows how to operate with it. The most common variables are strings (`str`), numbers (`int` and `float`), booleans (`True` and `False`), lists (`list`) and dictionaries (`dict`). Each of them has different properties that need to be taken into consideration."
   ]
  },
  {
   "cell_type": "markdown",
   "id": "e273619e",
   "metadata": {},
   "source": [
    "## 4.1.1 Strings (`str`)"
   ]
  },
  {
   "cell_type": "markdown",
   "id": "6edce00f",
   "metadata": {},
   "source": [
    "Strings represent text variables and are defined with double-quotes."
   ]
  },
  {
   "cell_type": "markdown",
   "id": "66c3e51d",
   "metadata": {},
   "source": [
    "## <center style=\"font-size:8vw\">`string_variable = \"Hello World\"`</center>\n"
   ]
  },
  {
   "cell_type": "code",
   "execution_count": 5,
   "id": "f4264a04",
   "metadata": {},
   "outputs": [],
   "source": [
    "# Lets define a variable\n",
    "string_variable = \"Hello World\""
   ]
  },
  {
   "cell_type": "markdown",
   "id": "515d95f6",
   "metadata": {},
   "source": [
    "To check the type of a variable, just use the build-in function `type`."
   ]
  },
  {
   "cell_type": "code",
   "execution_count": 6,
   "id": "47e78f46",
   "metadata": {},
   "outputs": [
    {
     "data": {
      "text/plain": [
       "str"
      ]
     },
     "execution_count": 6,
     "metadata": {},
     "output_type": "execute_result"
    }
   ],
   "source": [
    "type(string_variable)  # and str Variable!"
   ]
  },
  {
   "cell_type": "markdown",
   "id": "847acdd0",
   "metadata": {},
   "source": [
    "Although this seems really simple, all variables have several functions (**methods**) that are particular to that type of variable which adds useful functionality. Methods are applied directly to the variable with the syntax:\n",
    "## <center style=\"font-size:8vw\">`string_variable.method_name(parameters, ...)` </center>\n",
    "\n"
   ]
  },
  {
   "cell_type": "markdown",
   "id": "e50103a3",
   "metadata": {},
   "source": [
    "For example, to convert a string into a lower case, you can use the method `lower`, which has no parameters."
   ]
  },
  {
   "cell_type": "code",
   "execution_count": 7,
   "id": "067db0f1",
   "metadata": {},
   "outputs": [
    {
     "data": {
      "text/plain": [
       "'hello world'"
      ]
     },
     "execution_count": 7,
     "metadata": {},
     "output_type": "execute_result"
    }
   ],
   "source": [
    "string_variable.lower()  # Now h and w are lower case"
   ]
  },
  {
   "cell_type": "markdown",
   "id": "8a97e48d",
   "metadata": {},
   "source": [
    "The same can be done to make it upper case."
   ]
  },
  {
   "cell_type": "code",
   "execution_count": 8,
   "id": "5f9698d8",
   "metadata": {},
   "outputs": [
    {
     "data": {
      "text/plain": [
       "'HELLO WORLD'"
      ]
     },
     "execution_count": 8,
     "metadata": {},
     "output_type": "execute_result"
    }
   ],
   "source": [
    "string_variable.upper()  # Everything is upper case!"
   ]
  },
  {
   "cell_type": "markdown",
   "id": "b4e570cf",
   "metadata": {},
   "source": [
    "Other methods like `split` can divide the text with and specific separator. Let's try to divide `HELLO WORLD` into two words."
   ]
  },
  {
   "cell_type": "code",
   "execution_count": 9,
   "id": "2f9021fd",
   "metadata": {},
   "outputs": [
    {
     "data": {
      "text/plain": [
       "['Hello', 'World']"
      ]
     },
     "execution_count": 9,
     "metadata": {},
     "output_type": "execute_result"
    }
   ],
   "source": [
    "string_variable.split(' ')  # Text is separated according to the input of the function ' ' (an space) "
   ]
  },
  {
   "cell_type": "markdown",
   "id": "fd979942",
   "metadata": {},
   "source": [
    "The results are saved in a strange format that we will see later!!!. You can look at more methods for strings [here](https://docs.python.org/3/library/stdtypes.html#string-methods)."
   ]
  },
  {
   "cell_type": "markdown",
   "id": "632f6793",
   "metadata": {},
   "source": [
    "## 4.1.2 Numbers (`int` and `float`)"
   ]
  },
  {
   "cell_type": "markdown",
   "id": "5812e710",
   "metadata": {},
   "source": [
    "`int` and `float` represent numbers in Python. \n",
    "## <center style=\"font-size:8vw\">`int_variable = 1`</center>\n",
    "\n",
    "## <center style=\"font-size:8vw\">`float_variable = 2.0`</center>\n"
   ]
  },
  {
   "cell_type": "markdown",
   "id": "617a24af",
   "metadata": {},
   "source": [
    "Let's check the type for each variable:"
   ]
  },
  {
   "cell_type": "code",
   "execution_count": 10,
   "id": "202128ec",
   "metadata": {},
   "outputs": [],
   "source": [
    "# Defining the variables\n",
    "int_variable = 1\n",
    "float_variable = 2.0"
   ]
  },
  {
   "cell_type": "code",
   "execution_count": 11,
   "id": "877049e9",
   "metadata": {},
   "outputs": [
    {
     "data": {
      "text/plain": [
       "int"
      ]
     },
     "execution_count": 11,
     "metadata": {},
     "output_type": "execute_result"
    }
   ],
   "source": [
    "# Type for int_variable\n",
    "type(int_variable)"
   ]
  },
  {
   "cell_type": "code",
   "execution_count": 12,
   "id": "b5828df5",
   "metadata": {},
   "outputs": [
    {
     "data": {
      "text/plain": [
       "float"
      ]
     },
     "execution_count": 12,
     "metadata": {},
     "output_type": "execute_result"
    }
   ],
   "source": [
    "# Type for float_variable\n",
    "type(float_variable)"
   ]
  },
  {
   "cell_type": "markdown",
   "id": "8aed35c9",
   "metadata": {},
   "source": [
    "Both represent numbers.... so what?. The difference is that `int` variable represents whole numbers meanwhile `float` can store numbers with decimals. Some python functions will only accept `ints` and will throw an error if `float` is used, but aside from those particular cases, you can use floats or integers as you like.   "
   ]
  },
  {
   "cell_type": "code",
   "execution_count": 13,
   "id": "4403b4d6",
   "metadata": {},
   "outputs": [],
   "source": [
    "# Lets sum int and floats !!!. \n",
    "# which is the type of the variable result after the sum ? \n",
    "\n",
    "result = \"<TODO>\"  # <TODO>  are parts that you need to complete"
   ]
  },
  {
   "cell_type": "markdown",
   "id": "d201c2eb",
   "metadata": {},
   "source": [
    "Numbers in Python also have methods like +, -, %, etc. but we will learn that tomorrow!."
   ]
  },
  {
   "cell_type": "markdown",
   "id": "09e82b1d",
   "metadata": {},
   "source": [
    "## 4.1.3 Booleans (`True` and `False`)"
   ]
  },
  {
   "cell_type": "markdown",
   "id": "3240d4c6",
   "metadata": {},
   "source": [
    "Booleans are fundamental to setup conditions in code according to if they are True or False.\n",
    "## <center style=\"font-size:8vw\">`true_variable = True`</center>\n",
    "\n",
    "## <center style=\"font-size:8vw\">`false_variable = False`</center>"
   ]
  },
  {
   "cell_type": "markdown",
   "id": "ca785f61",
   "metadata": {},
   "source": [
    "With booleans we can use `not`, `or` and `and` operations (using logic theory) to check for multiple conditions. "
   ]
  },
  {
   "cell_type": "code",
   "execution_count": 14,
   "id": "1e607906",
   "metadata": {},
   "outputs": [],
   "source": [
    "# Defining variables\n",
    "true_variable = True\n",
    "false_variable = False"
   ]
  },
  {
   "cell_type": "code",
   "execution_count": 15,
   "id": "55ebbfc0",
   "metadata": {},
   "outputs": [
    {
     "data": {
      "text/plain": [
       "False"
      ]
     },
     "execution_count": 15,
     "metadata": {},
     "output_type": "execute_result"
    }
   ],
   "source": [
    "# Working with not operators\n",
    "not true_variable"
   ]
  },
  {
   "cell_type": "code",
   "execution_count": 16,
   "id": "53ead400",
   "metadata": {},
   "outputs": [
    {
     "data": {
      "text/plain": [
       "False"
      ]
     },
     "execution_count": 16,
     "metadata": {},
     "output_type": "execute_result"
    }
   ],
   "source": [
    "not true_variable"
   ]
  },
  {
   "cell_type": "markdown",
   "id": "192b7191",
   "metadata": {},
   "source": [
    "The `not` operators change the value of the boolean. The first and second case can be read as:\n",
    " * if not True then it is False\n",
    " * if not False then it is True"
   ]
  },
  {
   "cell_type": "markdown",
   "id": "36e81015",
   "metadata": {},
   "source": [
    "Meanwhile `or` and `and` follows the rules of [Truth Tables](https://en.wikipedia.org/wiki/Truth_table)."
   ]
  },
  {
   "cell_type": "code",
   "execution_count": 17,
   "id": "d95567fe",
   "metadata": {},
   "outputs": [
    {
     "data": {
      "text/plain": [
       "'<TODO> False or False ?'"
      ]
     },
     "execution_count": 17,
     "metadata": {},
     "output_type": "execute_result"
    }
   ],
   "source": [
    "# TODO What is the result of: \n",
    "\"<TODO> True and True ?\"\n",
    "\"<TODO> False and True ?\"\n",
    "\"<TODO> False or True ?\"\n",
    "\"<TODO> True or True ?\"\n",
    "\"<TODO> False or False ?\""
   ]
  },
  {
   "cell_type": "markdown",
   "id": "6e1e9e5d",
   "metadata": {},
   "source": [
    "## 4.1.4 Lists (`list`)"
   ]
  },
  {
   "cell_type": "markdown",
   "id": "1ad48f76",
   "metadata": {},
   "source": [
    "Lists are one of the core variables of Python. These allow storing essentially any kind of variable. Lists can be created empty or with elements.\n",
    "## <center style=\"font-size:8vw\">`list_variable = []  # Empty`</center>\n",
    "\n",
    "## <center style=\"font-size:8vw\">`list_variable = [10, 2]  # With elements`</center>"
   ]
  },
  {
   "cell_type": "markdown",
   "id": "2e8fbe87",
   "metadata": {},
   "source": [
    "Some properties of lists are :\n",
    "* Allow Duplicates: the same variable or value can be present multiple times\n",
    "* Are ordered\n",
    "* Have length\n",
    "* **Indexing**\n",
    "* **Slicing**"
   ]
  },
  {
   "cell_type": "code",
   "execution_count": 18,
   "id": "b45b08c7",
   "metadata": {},
   "outputs": [],
   "source": [
    "# Lets define a list\n",
    "list_variable = [1, 2, 3, 4, 5, 6, 7, 8]"
   ]
  },
  {
   "cell_type": "code",
   "execution_count": 19,
   "id": "0205910d",
   "metadata": {},
   "outputs": [
    {
     "data": {
      "text/plain": [
       "list"
      ]
     },
     "execution_count": 19,
     "metadata": {},
     "output_type": "execute_result"
    }
   ],
   "source": [
    "# The type of list_variable\n",
    "type(list_variable)"
   ]
  },
  {
   "cell_type": "code",
   "execution_count": 20,
   "id": "cdfba64e",
   "metadata": {},
   "outputs": [
    {
     "data": {
      "text/plain": [
       "8"
      ]
     },
     "execution_count": 20,
     "metadata": {},
     "output_type": "execute_result"
    }
   ],
   "source": [
    "# Length of the list\n",
    "len(list_variable)"
   ]
  },
  {
   "cell_type": "code",
   "execution_count": 21,
   "id": "24815ea1",
   "metadata": {},
   "outputs": [
    {
     "data": {
      "text/plain": [
       "[1, 2, 3, 4, 5, 6, 7, 8]"
      ]
     },
     "execution_count": 21,
     "metadata": {},
     "output_type": "execute_result"
    }
   ],
   "source": [
    "# The list haven't (and will not) change its order\n",
    "list_variable"
   ]
  },
  {
   "cell_type": "markdown",
   "id": "7c1c75b7",
   "metadata": {},
   "source": [
    "Indexing allows to extract a particular value of a list according to his position. Contrary to what one might think, the first position in a list is `0`. To get a value from a list, we need to use the following syntax:\n",
    "## <center style=\"font-size:8vw\">`list_variable[index_position] `</center>\n",
    "\n",
    "Where `index_position` is a `int` with a value from `0` to `len(list_variable) - 1` . To extract the first value `1` we need to use `list_variable[0]`"
   ]
  },
  {
   "cell_type": "code",
   "execution_count": 22,
   "id": "353bb3c9",
   "metadata": {},
   "outputs": [
    {
     "data": {
      "text/plain": [
       "'<TODO>'"
      ]
     },
     "execution_count": 22,
     "metadata": {},
     "output_type": "execute_result"
    }
   ],
   "source": [
    "# Get the last value of the list list_variable\n",
    "\"<TODO>\""
   ]
  },
  {
   "cell_type": "markdown",
   "id": "a3edbbf6",
   "metadata": {},
   "source": [
    "To get the other values we could use `list_variable[1]`, `list_variable[1]`, `list_variable[2]`, an so on . If the list is too large, it gets tedious really soon. **Slicing** solves this problem by using a start and end position to get values.\n",
    "## <center style=\"font-size:8vw\">`list_variable[start_index:end_index] `</center>\n",
    "\n",
    "With that, to get the values 3 to 7 is only a matter of using `list_variable[2:7]`\n"
   ]
  },
  {
   "cell_type": "code",
   "execution_count": 23,
   "id": "412eb797",
   "metadata": {},
   "outputs": [
    {
     "data": {
      "text/plain": [
       "[3, 4, 5, 6, 7]"
      ]
     },
     "execution_count": 23,
     "metadata": {},
     "output_type": "execute_result"
    }
   ],
   "source": [
    "# Getting values 3 to 7\n",
    "list_variable[2:7]"
   ]
  },
  {
   "cell_type": "markdown",
   "id": "52ee493e",
   "metadata": {},
   "source": [
    "One of the most important methods of lists is `append`, which allows adding a value at the end of the list. \n",
    "\n",
    "## <center style=\"font-size:8vw\">`list_variable.append(any_variable) `</center>\n"
   ]
  },
  {
   "cell_type": "code",
   "execution_count": 24,
   "id": "b6bfbe12",
   "metadata": {},
   "outputs": [
    {
     "data": {
      "text/plain": [
       "'<TODO>'"
      ]
     },
     "execution_count": 24,
     "metadata": {},
     "output_type": "execute_result"
    }
   ],
   "source": [
    "# Append \"Hola\" to the end of the string\n",
    "\"<TODO>\"\n"
   ]
  },
  {
   "cell_type": "markdown",
   "id": "399c1b6d",
   "metadata": {},
   "source": [
    "## 4.1.5 Dictionaries (`dict`)"
   ]
  },
  {
   "cell_type": "markdown",
   "id": "1582d196",
   "metadata": {},
   "source": [
    "Dictionaries are used to store data values in key: values pairs using curly braces.\n",
    "\n",
    "## <center style=\"font-size:8vw\">`dict_variable = {key_1: value_1, key_2: value_2, ...} `</center>\n",
    "\n"
   ]
  },
  {
   "cell_type": "markdown",
   "id": "7a26ee34",
   "metadata": {},
   "source": [
    "Unlike lists, Dictionaries don't allow duplicates or slicing, but adding key and values can be done without using special methods."
   ]
  },
  {
   "cell_type": "code",
   "execution_count": 25,
   "id": "0dba4635",
   "metadata": {},
   "outputs": [],
   "source": [
    "# Defining a Dictionary\n",
    "dict_variable = {\"Chile\": \"Santiago\", \"IIBM\": \"Bootcamp\", \"score\": 2}"
   ]
  },
  {
   "cell_type": "code",
   "execution_count": 26,
   "id": "d069cdb8",
   "metadata": {},
   "outputs": [
    {
     "data": {
      "text/plain": [
       "'Santiago'"
      ]
     },
     "execution_count": 26,
     "metadata": {},
     "output_type": "execute_result"
    }
   ],
   "source": [
    "# Getting the value for Chile\n",
    "dict_variable[\"Chile\"]"
   ]
  },
  {
   "cell_type": "code",
   "execution_count": 27,
   "id": "ce902ba6",
   "metadata": {},
   "outputs": [],
   "source": [
    "# Adding a new Key and value\n",
    "dict_variable[\"completo\"] = \"Italiano\""
   ]
  },
  {
   "cell_type": "code",
   "execution_count": 28,
   "id": "896e0c00",
   "metadata": {},
   "outputs": [
    {
     "data": {
      "text/plain": [
       "{'Chile': 'Santiago', 'IIBM': 'Bootcamp', 'score': 2, 'completo': 'Italiano'}"
      ]
     },
     "execution_count": 28,
     "metadata": {},
     "output_type": "execute_result"
    }
   ],
   "source": [
    "# Check the new value in dict\n",
    "dict_variable"
   ]
  },
  {
   "cell_type": "markdown",
   "id": "22a67bdc",
   "metadata": {},
   "source": [
    "## 4.2 What are variables ?"
   ]
  },
  {
   "cell_type": "markdown",
   "id": "340c681a",
   "metadata": {},
   "source": [
    "![Class](https://raw.githubusercontent.com/CarlosValleA/IIBM-BootCamp/main/images/D1_meme_class.png)"
   ]
  },
  {
   "cell_type": "markdown",
   "id": "39178f4d",
   "metadata": {},
   "source": [
    "Python is an object-oriented programming (OOP) language, which means that everything here is a `Class` that has attributes (for example, the values inside a list) and methods (append to add elements to a list). This means that **every type of variable that we study** is also a class with attributes and methods."
   ]
  },
  {
   "cell_type": "code",
   "execution_count": 29,
   "id": "c250588f",
   "metadata": {},
   "outputs": [
    {
     "data": {
      "text/plain": [
       "'<TODO>'"
      ]
     },
     "execution_count": 29,
     "metadata": {},
     "output_type": "execute_result"
    }
   ],
   "source": [
    "# Is int a class ?\n",
    "\"<TODO>\""
   ]
  },
  {
   "cell_type": "code",
   "execution_count": 30,
   "id": "ec5c81c0",
   "metadata": {},
   "outputs": [
    {
     "data": {
      "text/plain": [
       "'<TODO>'"
      ]
     },
     "execution_count": 30,
     "metadata": {},
     "output_type": "execute_result"
    }
   ],
   "source": [
    "# is float a class ?\n",
    "\"<TODO>\""
   ]
  },
  {
   "cell_type": "code",
   "execution_count": 31,
   "id": "f990a922",
   "metadata": {},
   "outputs": [
    {
     "data": {
      "text/plain": [
       "'<TODO>'"
      ]
     },
     "execution_count": 31,
     "metadata": {},
     "output_type": "execute_result"
    }
   ],
   "source": [
    "# is list a class ?\n",
    "\"<TODO>\""
   ]
  },
  {
   "cell_type": "markdown",
   "id": "b8a5326c",
   "metadata": {},
   "source": [
    "Is this information relevant now? Not really. But it is important to know the basic structure of Python for later more advanced concepts that we could encounter."
   ]
  },
  {
   "cell_type": "code",
   "execution_count": null,
   "id": "dbfb55f0",
   "metadata": {},
   "outputs": [],
   "source": []
  }
 ],
 "metadata": {
  "colab": {
   "name": "D1Morning_tools_elemental_python.ipynb",
   "provenance": []
  },
  "kernelspec": {
   "display_name": "Python 3 (ipykernel)",
   "language": "python",
   "name": "python3"
  },
  "language_info": {
   "codemirror_mode": {
    "name": "ipython",
    "version": 3
   },
   "file_extension": ".py",
   "mimetype": "text/x-python",
   "name": "python",
   "nbconvert_exporter": "python",
   "pygments_lexer": "ipython3",
   "version": "3.9.7"
  }
 },
 "nbformat": 4,
 "nbformat_minor": 5
}
