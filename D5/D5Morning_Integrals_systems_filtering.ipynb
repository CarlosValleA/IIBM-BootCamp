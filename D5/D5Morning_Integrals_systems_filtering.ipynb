{
 "cells": [
  {
   "cell_type": "markdown",
   "id": "45f86ef9",
   "metadata": {},
   "source": [
    "## IIBM Bootcamp 2022: Day 5 Morning\n",
    "### Instructors Carlos Valle (cgvalle@uc.cl) and Gabriela Vargas (givargas@uc.cl)\n",
    "\n",
    "This jupyter noteboook will cover the usage of Python libraries for solving common problems.\n",
    "\n",
    "### Day Agenda:\n",
    "\n",
    "***Morning***\n",
    "\n",
    "    1. Integrals\n",
    "    2. Solving Linear systems\n",
    "    3. Filtering images with convolutions\n",
    "\n",
    "\n",
    "***Afternoon***\n",
    "\n",
    "    4. Couting cells in images\n",
    "    5. Errors in python\n",
    "    6. Closing activity  \n",
    "      \n",
    "\n",
    "7. **Don't forget to send your work!**\n",
    "\n",
    "\n"
   ]
  },
  {
   "cell_type": "markdown",
   "id": "637173e3",
   "metadata": {},
   "source": [
    "## 1. Integrals"
   ]
  },
  {
   "cell_type": "markdown",
   "id": "19643ad3",
   "metadata": {},
   "source": [
    "The integral allows the perfom the inverse proces of derivation. If acceleration is the derivative of speed, speed is obtained by the integral of acceleration. By the [Fundamental theorem of calculus](https://en.wikipedia.org/wiki/Fundamental_theorem_of_calculus):\n",
    "\n",
    "$$\n",
    "\\dfrac{d}{dx} \\int_{a}^{x} f(t) dt = f(x)\n",
    "$$\n",
    "\n",
    "We can understand integration as the inverse process of differentiation. So if we have the derivate of something, we can integrate it to get the original function. \n",
    "\n",
    "In simple terms integrating is obtaining the area under the curve for a specific range of values $(a, b)$. Although we are talking about area, if the curve is below the $x$ axis the result of the integration can be a negative value. \n",
    "\n",
    "![Area under curve](https://raw.githubusercontent.com/CarlosValleA/IIBM-BootCamp/main/images/D5_area_integral.png)\n",
    "\n",
    "As shown in the figure, since the left size of the integral of $f(x)$ is above the $x$ axis, the area obtained has a positive value and the middle part of the integral of $f(x)$ has a negative value since it below 0.\n",
    "\n",
    "While working with discrete functions, the integral of a vector can be understand has the cumulative sum of it values.\n",
    "\n",
    "### Excersice\n",
    "Let's use again the daily covid cases provided by [MinCiencia](https://github.com/MinCiencia/Datos-COVID19). Previously, you worked with the original time-series (Dias, Casos_nuevos) to cleate plots and measure the semanal daily cases. \n",
    "\n",
    "Sadly, someone deleted the previous file so it no longer available, but only a plot of how the data looks is available (**Figure 1**). Fortunately, the there is a backup that has the derivative of the covid daily cases. It is your work to integrate the derivated time-series to get the original values.\n",
    "\n",
    "**Hint:** you can use the [`integrate.cumtrapz`](https://docs.scipy.org/doc/scipy-0.14.0/reference/generated/scipy.integrate.cumtrapz.html) of `scipy` library to integrate a vector. \n",
    "\n",
    "\n",
    "\n",
    "![Daily covid cases Chile](https://raw.githubusercontent.com/CarlosValleA/IIBM-BootCamp/main/images/D5_original_covid.png)\n",
    "**Figure 1.** Daily covid cases Chile\n",
    "\n"
   ]
  },
  {
   "cell_type": "markdown",
   "id": "6dbef8a2",
   "metadata": {},
   "source": [
    "1. Plot the derivative of the original covid cases vector variable `derivated_casos_nuevos`. It is always good to look at how the data looks.\n",
    "2. Integrate of the variable `derivated_casos_nuevos` to reconstruct the original plot.\n",
    "3. In the same plot, plot the original and derivated values for the daily covid cases in Chile."
   ]
  },
  {
   "cell_type": "code",
   "execution_count": null,
   "id": "7d795546",
   "metadata": {},
   "outputs": [],
   "source": [
    "# Do not modify\n",
    "!wget https://raw.githubusercontent.com/CarlosValleA/IIBM-BootCamp/main/data/casos_nuevos_derivados.txt"
   ]
  },
  {
   "cell_type": "code",
   "execution_count": null,
   "id": "1efee17e",
   "metadata": {},
   "outputs": [],
   "source": [
    "# Loading the derivated data\n",
    "with open('casos_nuevos_derivados.txt') as file:\n",
    "    lines = file.read()\n",
    "    lines = lines.split('\\n')\n",
    "    lines = [float(value) for value in lines if len(value)>0]\n",
    "\n",
    "# derivate_casos_nuevos is the vector with the derivate of \n",
    "# the original data\n",
    "derivated_casos_nuevos = lines\n",
    "\n",
    "\"<TODO>\"\n",
    "\n",
    "    "
   ]
  },
  {
   "cell_type": "markdown",
   "id": "9db7208f",
   "metadata": {},
   "source": [
    "## 2. Solving linear systems\n",
    "### Linear Equations\n",
    "\n",
    "It is an equation for a straight line whose points make up the collection of solutions of the equation.\n",
    "\n",
    "```\n",
    "Q: What we can represent in a straight line? \n",
    "A: Any constant rate of growth\n",
    "```\n",
    "*For example*, a constant rate of change of: velocity, drug activation, growth of a living organisms, decrease of a population, etc"
   ]
  },
  {
   "cell_type": "code",
   "execution_count": null,
   "id": "6aadf515",
   "metadata": {},
   "outputs": [],
   "source": [
    "# A LINE\n",
    "import matplotlib.pyplot as plt\n",
    "import numpy as np\n",
    "plt.style.use('dark_background')\n",
    "fig = plt.figure(figsize=(10, 10))\n",
    "ax = fig.add_subplot(1, 1, 1)\n",
    "x = np.linspace(1, 10, 10)\n",
    "y=x\n",
    "ax.set_axis_off()\n",
    "plt.plot(x,y)\n",
    "plt.show()"
   ]
  },
  {
   "cell_type": "markdown",
   "id": "1834ff20",
   "metadata": {},
   "source": [
    "We already know how to found the rate of change of something by finding their derivatives!\n",
    "\n",
    "If that rate of change of some quantity with respect to (w.r.t) an independen viariable is constant we say it is a  **linear process**\n",
    "\n",
    "### Solving a system of linear equation with three unknown variables\n",
    "\n",
    "Solving an equation means finding the value or values for which the expressions-variables-quantities on each side of the equals sign are equal.\n",
    "\n",
    "There are multiple ways to solve such a system. Here we will solve by the matrix solution using ```numpy```\n",
    "\n",
    "\n",
    "\n",
    "Now we are going to solve a system of linear equation with 3 unknown variables: x, y and z ``` (Equation 1) ```\n",
    "\n",
    "\n",
    "```\n",
    "2x - 4y + 4z = 8\n",
    "34x + 3y -z = 30\n",
    "x + y + z = 108       (Equation 1)\n",
    "```\n",
    "\n",
    "In the matrix solution, the system of linear equations to be solved is represented in the form of matrix \n",
    "```\n",
    "AX = B     \n",
    "```\n",
    "We can represent Equation 1 in the form of a matrix as follows:\n",
    "```\n",
    "A= [[2 -4 4]\n",
    "    [34 3 -1]\n",
    "    [1 1 1]]\n",
    "\n",
    "X = [[x]\n",
    "     [y]\n",
    "     [z]]\n",
    "\n",
    "B = [[8]\n",
    "     [30]\n",
    "     [108]]\n",
    "  \n",
    "```\n",
    "\n",
    "To find the value of x and y variables in Equation 1, we need to find the values in the matrix X. \n",
    "To do so, we can take the dot product of the inverse of matrix A, and the matrix B:\n",
    "\n",
    "\n",
    "### Solving a System of Linear Equations with Numpy\n"
   ]
  },
  {
   "cell_type": "code",
   "execution_count": null,
   "id": "9d268cb2",
   "metadata": {},
   "outputs": [],
   "source": [
    "## WRITE AND SOLVE THE LINEAR EQUATION SYSTEM  by the matrix solution\n",
    "'<TO DO>'"
   ]
  },
  {
   "cell_type": "code",
   "execution_count": null,
   "id": "5bf22e00",
   "metadata": {},
   "outputs": [],
   "source": [
    "#Check the dot multiplication between A and its inverse\n",
    "'<TO DO>'"
   ]
  },
  {
   "cell_type": "code",
   "execution_count": null,
   "id": "e86b6c86",
   "metadata": {},
   "outputs": [],
   "source": [
    "# Check the result by mutliplying A by the result\n",
    "'<TO DO>'"
   ]
  },
  {
   "cell_type": "markdown",
   "id": "bdd3beaf",
   "metadata": {},
   "source": [
    "### Solving a System of Linear Equations using solve() Method"
   ]
  },
  {
   "cell_type": "code",
   "execution_count": null,
   "id": "7210749d",
   "metadata": {},
   "outputs": [],
   "source": [
    "# Import\n",
    "import numpy as np\n",
    "import matplotlib.pyplot as plt\n",
    "from scipy.integrate import solve_ivp  # numerical integration solver"
   ]
  },
  {
   "cell_type": "markdown",
   "id": "82a84014",
   "metadata": {},
   "source": [
    "Let's go to the [documentation](https://docs.scipy.org/doc/scipy/reference/generated/scipy.integrate.solve_ivp.html) and solve the equation!"
   ]
  },
  {
   "cell_type": "code",
   "execution_count": null,
   "id": "0d8b9074",
   "metadata": {},
   "outputs": [],
   "source": [
    "'<TO DO>'"
   ]
  },
  {
   "cell_type": "markdown",
   "id": "9f5d2216",
   "metadata": {},
   "source": [
    "## Visualization of the result\n",
    "If I do not know how to plot it, let's navigate through the vast land of the internet\n",
    "--> i.e: [This seems a good starting point](https://stackoverflow.com/questions/35107416/using-matplotlib-and-numpy-to-plot-a-system-of-equations)\n"
   ]
  },
  {
   "cell_type": "markdown",
   "id": "57175fcc",
   "metadata": {},
   "source": [
    "![](https://external-preview.redd.it/EDuAmi7t7oW840rRg2WMKphcP_ViObYN9lrdRmFOmj8.jpg?auto=webp&s=596eef33d2fa848cd56f77f7113c21858521c726)"
   ]
  },
  {
   "cell_type": "code",
   "execution_count": null,
   "id": "b20fa690",
   "metadata": {},
   "outputs": [],
   "source": [
    "\"<TODO>\""
   ]
  },
  {
   "cell_type": "markdown",
   "id": "3f8935e0",
   "metadata": {},
   "source": [
    "## 3. Filtering images with convolutions\n",
    "In image processing, a convolution is the process of adding each element of the image to its local neighbors, weighted by the kernel. In short terms, the kernel (a matrix) is move along all directions of an image doint point-wise operations between the kernel and the image.\n",
    "\n",
    "![convolution](https://upload.wikimedia.org/wikipedia/commons/1/19/2D_Convolution_Animation.gif)\n",
    "\n",
    "The [kernel](https://setosa.io/ev/image-kernels/) is usually a square matrix with odd dimension ($3x3$, $5x5$, $7x7$, etc.) that can perform blurring, sharpening, edge detection, etc. in a image. Examples for kernels are:\n",
    "\n",
    "$$\n",
    "blur = \\dfrac{1}{9}\n",
    "\\left [ \\begin{array}{c} \n",
    "1 & 1 & 1\\\\\n",
    "1 & 1 & 1\\\\\n",
    "1 & 1 & 1\n",
    "\\end{array}\\right ]\n",
    "$$ \n",
    "\n",
    "\n",
    "$$\n",
    "sharpen = \\dfrac{1}{9}\n",
    "\\left [ \\begin{array}{c} \n",
    "0 & -1 & 0\\\\\n",
    "-1 & 5 & -1\\\\\n",
    "0 & -1 & 0\n",
    "\\end{array}\\right ]\n",
    "$$ \n",
    "\n",
    "$$\n",
    "sobel_X = \\dfrac{1}{9}\n",
    "\\left [ \\begin{array}{c} \n",
    "-1 & 0 & 1\\\\\n",
    "-2 & 0 & 2\\\\\n",
    "-1 & 0 & 1\n",
    "\\end{array}\\right ]\n",
    "$$ \n",
    "\n",
    "$$\n",
    "sobel_Y = \\dfrac{1}{9}\n",
    "\\left [ \\begin{array}{c} \n",
    "1 & 2 & 1\\\\\n",
    "0 & 0 & 0\\\\\n",
    "-1 & -2 & -1\n",
    "\\end{array}\\right ]\n",
    "$$ \n",
    "\n",
    "To apply a convolutional kernel to an image you can use the `filter2D` function of [opencv](https://github.com/opencv/opencv).\n",
    "\n",
    "## Exercise\n",
    "1. Load the image `D5_completo.jpeg` using OpenCV (`cv2`) into a variable called `img` and plot it using Matplotlib (Don't forget `plt.show()`!).\n",
    "2. Check the type of variable of `img`. What library it is using to store the image ?\n",
    "3. The color of the image may not be displayed correctly. You can use the following command to discuss it. \n",
    "\n",
    "`img = cv2.cvtColor(img, cv2.COLOR_BGR2RGB)`\n",
    "\n",
    "4. Search on the internet how to use the `filter2D` and apply the blur kernel, sharpen and sobelX kernel.\n",
    "5. Create your own kernel and plot the results."
   ]
  },
  {
   "cell_type": "code",
   "execution_count": null,
   "id": "0c98ae0b",
   "metadata": {},
   "outputs": [],
   "source": [
    "! wget https://raw.githubusercontent.com/CarlosValleA/IIBM-BootCamp/main/images/D5_completo.jpeg"
   ]
  },
  {
   "cell_type": "code",
   "execution_count": null,
   "id": "685e5df4",
   "metadata": {},
   "outputs": [],
   "source": [
    "#%matplotlib inline\n",
    "import cv2\n",
    "import numpy as np\n",
    "from matplotlib import pyplot as plt\n",
    "img = \"<TODO>\"  # Read image"
   ]
  },
  {
   "cell_type": "code",
   "execution_count": null,
   "id": "715822d1",
   "metadata": {},
   "outputs": [],
   "source": []
  },
  {
   "cell_type": "markdown",
   "id": "808c76a3",
   "metadata": {},
   "source": [
    "# **Don't forget to send your work!**\n",
    "Please don't forget to send your work to give you feedback about your progress to this [form](https://forms.gle/VjepgcVYe9ZYab269). To send it, you need to download the Notebook from Colab's webpage and upload it in the last question of the form."
   ]
  },
  {
   "cell_type": "code",
   "execution_count": null,
   "id": "9942aac5",
   "metadata": {},
   "outputs": [],
   "source": []
  }
 ],
 "metadata": {
  "kernelspec": {
   "display_name": "Python 3 (ipykernel)",
   "language": "python",
   "name": "python3"
  },
  "language_info": {
   "codemirror_mode": {
    "name": "ipython",
    "version": 3
   },
   "file_extension": ".py",
   "mimetype": "text/x-python",
   "name": "python",
   "nbconvert_exporter": "python",
   "pygments_lexer": "ipython3",
   "version": "3.9.7"
  }
 },
 "nbformat": 4,
 "nbformat_minor": 5
}
